{
 "cells": [
  {
   "cell_type": "markdown",
   "metadata": {},
   "source": [
    "Integrate raw Fibroblast data\n",
    "\n",
    "with a subsamling step to focus on the LV (remove samples from Reichart22)\n"
   ]
  },
  {
   "cell_type": "code",
   "execution_count": 1,
   "metadata": {},
   "outputs": [],
   "source": [
    "import scanpy as sc\n",
    "import anndata as ad\n",
    "import pandas as pd\n",
    "import numpy as np\n",
    "import os\n",
    "from anndata.experimental.multi_files import AnnCollection\n",
    "import scanpy.external as sce\n",
    "import matplotlib.pyplot as plt\n",
    "import seaborn as sns\n",
    "\n",
    "\n",
    "import warnings\n",
    "warnings.filterwarnings(\"ignore\")\n"
   ]
  },
  {
   "cell_type": "markdown",
   "metadata": {},
   "source": []
  },
  {
   "cell_type": "code",
   "execution_count": 2,
   "metadata": {},
   "outputs": [
    {
     "name": "stdout",
     "output_type": "stream",
     "text": [
      "['fibs_integrated_sub.h5ad', 'Chaffin2022_fibs.h5ad', 'fibs_integrated.h5ad', 'Simonson2023_fibs.h5ad', 'fibs_integrated_sub_reg.h5ad', 'Reichart2022_fibs.h5ad', 'Koenig2022_fibs.h5ad']\n",
      "['/home/jan/R-projects/reheat2_pilot/data/celltype_data/Fibs/fibs_integrated_sub.h5ad', '/home/jan/R-projects/reheat2_pilot/data/celltype_data/Fibs/Chaffin2022_fibs.h5ad', '/home/jan/R-projects/reheat2_pilot/data/celltype_data/Fibs/fibs_integrated.h5ad', '/home/jan/R-projects/reheat2_pilot/data/celltype_data/Fibs/Simonson2023_fibs.h5ad', '/home/jan/R-projects/reheat2_pilot/data/celltype_data/Fibs/fibs_integrated_sub_reg.h5ad', '/home/jan/R-projects/reheat2_pilot/data/celltype_data/Fibs/Reichart2022_fibs.h5ad', '/home/jan/R-projects/reheat2_pilot/data/celltype_data/Fibs/Koenig2022_fibs.h5ad']\n"
     ]
    }
   ],
   "source": [
    "#local \n",
    "sds_dir = \"/home/jan/R-projects/reheat2_pilot/data/celltype_data/Fibs/\"\n",
    "\n",
    "files= os.listdir(sds_dir)\n",
    "print(files)\n",
    "file_paths =[sds_dir + string for string in files]\n",
    "print(file_paths)"
   ]
  },
  {
   "cell_type": "code",
   "execution_count": 3,
   "metadata": {},
   "outputs": [],
   "source": [
    "# Load the fibroblast data:\n",
    "# Loop through the file paths\n",
    "for file_path in file_paths:\n",
    "    # Extract the filename without the extension\n",
    "    file_name = os.path.splitext(os.path.basename(file_path))[0]\n",
    "    \n",
    "    # Load the .h5ad file into an AnnData object with the filename as the variable name\n",
    "    globals()[file_name] = ad.read_h5ad(file_path)"
   ]
  },
  {
   "cell_type": "markdown",
   "metadata": {},
   "source": [
    "Remove now the samples from Reichart that are not LV but from RV (right ventricle)"
   ]
  },
  {
   "cell_type": "code",
   "execution_count": 4,
   "metadata": {},
   "outputs": [],
   "source": [
    "def remove_samples(metadata_file, Reichart2022_fibs):\n",
    "    \"\"\"\n",
    "    Remove specified samples from the AnnData object.\n",
    "\n",
    "    Args:\n",
    "        metadata_file (str): Path to the CSV file containing the sample names to be removed.\n",
    "        Reichart2022_fibs (AnnData): AnnData object to be subsetted.\n",
    "\n",
    "    Returns:\n",
    "        AnnData: Subsetted AnnData object.\n",
    "    \"\"\"\n",
    "    # Read the CSV file containing the sample names to be removed\n",
    "    metadata = pd.read_csv(metadata_file)\n",
    "\n",
    "    # Get the sample names from the CSV file\n",
    "    samples_to_remove = metadata[\"x\"].tolist()\n",
    "    print(samples_to_remove)\n",
    "\n",
    "    # Subset the AnnData object by removing the specified sample names\n",
    "    sub_Reichart2022_fibs = Reichart2022_fibs[~Reichart2022_fibs.obs.sample_id.isin(samples_to_remove)]\n",
    "\n",
    "    return sub_Reichart2022_fibs\n",
    "\n",
    "\n",
    "\n"
   ]
  },
  {
   "cell_type": "code",
   "execution_count": 5,
   "metadata": {},
   "outputs": [
    {
     "name": "stdout",
     "output_type": "stream",
     "text": [
      "['DP2', 'DP1', 'H33', 'H11', 'H26', 'H40', 'H09', 'H29', 'H06', 'H36', 'H37', 'H14', 'H84', 'H34', 'H13', 'H42', 'H07', 'H10', 'H15', 'H22', 'H27', 'H02', 'H35', 'H31', 'H25', 'H01', 'H79', 'H24', 'H41', 'H12', 'H19', 'H28', 'H03', 'H80', 'H20', 'H08', 'H78', 'H39', 'IC_H01', 'IC_H02', 'IC_H03', 'IC_H04']\n"
     ]
    }
   ],
   "source": [
    "Reichart2022_fibs=remove_samples(  \"../../data/metadata/Reichart2022_DCM_RVsamples.csv\", Reichart2022_fibs)\n",
    "\n"
   ]
  },
  {
   "cell_type": "code",
   "execution_count": 6,
   "metadata": {},
   "outputs": [
    {
     "name": "stdout",
     "output_type": "stream",
     "text": [
      "                           0\n",
      "0       ATTATCCCATGGGAAC-1-0\n",
      "1       GAGGCCTCAGCTATTG-1-0\n",
      "2       TGACTCCAGTTGGCTT-1-0\n",
      "3       CGGCAGTCAGACACCC-1-0\n",
      "4       CCACGAGGTATGGTAA-1-0\n",
      "...                      ...\n",
      "29457  GGTGATTAGATAGCTA-1-14\n",
      "29458  TGAATGCAGATGAACT-1-14\n",
      "29459  TGGGCTGCAGCTTCGG-1-14\n",
      "29460  GGTTAACGTTAGCGGA-1-14\n",
      "29461  GTCTGTCAGCGTCGAA-1-14\n",
      "\n",
      "[29462 rows x 1 columns]\n"
     ]
    }
   ],
   "source": [
    "## we load cell ids that were identified as poor quality\n",
    "\n",
    "poorQ_fibs = pd.read_csv('../leiden_07_new_3_cells.csv')  \n",
    "# Remove the cells with poor quality from the dataframe\n",
    "#poorQ_fibs = pd.read_csv('../leiden_07_new_3_cells.csv')\n",
    "poorQ_cells = poorQ_fibs['0'].tolist()\n",
    "print(poorQ_fibs)\n"
   ]
  },
  {
   "cell_type": "code",
   "execution_count": 7,
   "metadata": {},
   "outputs": [],
   "source": [
    "# load consensus state markers: \n",
    "\n",
    "cmarkers = pd.read_csv(\"../../data/consensus_markers.csv\")\n",
    "\n",
    "def select_cmarkers(cmarkers, n=200, exclude_ctype= \"Fib\"):\n",
    "    # Filter rows where 'cell_type' is not equal to 'Fib' and 'mean_LFC' is greater than 0\n",
    "    filtered_cmarkers = cmarkers[(cmarkers['cell_type'] != exclude_ctype) & (cmarkers['mean_LFC'] > 0)]\n",
    "\n",
    "    # Group the filtered DataFrame by 'cell_type'\n",
    "    grouped_cmarkers = filtered_cmarkers.groupby('cell_type')\n",
    "\n",
    "    # Arrange the groups by 'adj_Fisher_p' and slice the top 'n' rows from each group\n",
    "    result = grouped_cmarkers.apply(lambda x: x.sort_values(by='adj_Fisher_p').head(n))\n",
    "\n",
    "    # Reset the index to maintain a regular DataFrame structure\n",
    "    result.reset_index(drop=True, inplace=True)\n",
    "\n",
    "    # Extract the 'gene' column and return it\n",
    "    return result['gene']\n",
    "\n"
   ]
  },
  {
   "cell_type": "code",
   "execution_count": 8,
   "metadata": {},
   "outputs": [
    {
     "name": "stdout",
     "output_type": "stream",
     "text": [
      "View of AnnData object with n_obs × n_vars = 126507 × 28616\n",
      "    obs: 'sample_id', 'disease', 'sex', 'age', 'lvef', 'cell_type', 'disease_code', 'heart_failure', 'batch', 'n_genes', 'n_genes_by_counts', 'total_counts', 'total_counts_mt', 'pct_counts_mt'\n",
      "    var: 'gene_ids', 'feature_types', 'genome', 'n_cells', 'mt', 'n_cells_by_counts', 'mean_counts', 'pct_dropout_by_counts', 'total_counts', 'highly_variable', 'means', 'dispersions', 'dispersions_norm', 'highly_variable_nbatches', 'highly_variable_intersection'\n",
      "    uns: 'hvg', 'log1p'\n",
      "    obsm: 'X_umap'\n",
      "    layers: 'counts'\n",
      "number of background genes = 0 \n",
      "before filtering:  28616, after filtering: 28616 \n",
      "at least 0.47619047619047616 of samples reported 2000hvg genes\n",
      "View of AnnData object with n_obs × n_vars = 36373 × 23940\n",
      "    obs: 'sample_id', 'cell_type', 'Condition', 'disease_code', 'heart_failure', 'batch', 'n_genes', 'n_genes_by_counts', 'total_counts', 'total_counts_mt', 'pct_counts_mt'\n",
      "    var: 'n_cells', 'mt', 'n_cells_by_counts', 'mean_counts', 'pct_dropout_by_counts', 'total_counts', 'highly_variable', 'means', 'dispersions', 'dispersions_norm', 'highly_variable_nbatches', 'highly_variable_intersection'\n",
      "    uns: 'X_name', 'hvg', 'log1p'\n",
      "    obsm: 'PCA', 'TSNE', 'UMAP'\n",
      "    layers: 'counts', 'logcounts'\n",
      "number of background genes = 0 \n",
      "before filtering:  23940, after filtering: 23940 \n",
      "at least 0.4473684210526316 of samples reported 2000hvg genes\n",
      "View of AnnData object with n_obs × n_vars = 31968 × 26072\n",
      "    obs: 'sample_id', 'Primary.Genetic.Diagnosis', 'cell_type', 'assay', 'suspension_type', 'disease', 'sex', 'disease_code', 'heart_failure', 'batch', 'n_genes', 'n_genes_by_counts', 'total_counts', 'total_counts_mt', 'pct_counts_mt'\n",
      "    var: 'feature_is_filtered', 'feature_name', 'feature_reference', 'feature_biotype', 'n_cells', 'mt', 'n_cells_by_counts', 'mean_counts', 'pct_dropout_by_counts', 'total_counts', 'highly_variable', 'means', 'dispersions', 'dispersions_norm', 'highly_variable_nbatches', 'highly_variable_intersection'\n",
      "    uns: 'cell_states_colors', 'cell_type_colors', 'cell_type_ontology_term_id_colors', 'hvg', 'leiden', 'log1p', 'neighbors', 'pca', 'schema_version', 'title', 'umap'\n",
      "    obsm: 'X_pca', 'X_umap'\n",
      "    layers: 'counts'\n",
      "number of background genes = 0 \n",
      "before filtering:  26072, after filtering: 26072 \n",
      "at least 0.972972972972973 of samples reported 2000hvg genes\n",
      "View of AnnData object with n_obs × n_vars = 17736 × 21043\n",
      "    obs: 'sample_id', 'disease', 'sex', 'age', 'cell_type', 'disease_code', 'heart_failure', 'batch', 'n_genes', 'n_genes_by_counts', 'total_counts', 'total_counts_mt', 'pct_counts_mt'\n",
      "    var: 'gene_ids', 'feature_types', 'genome', 'n_cells', 'mt', 'n_cells_by_counts', 'mean_counts', 'pct_dropout_by_counts', 'total_counts', 'highly_variable', 'means', 'dispersions', 'dispersions_norm', 'highly_variable_nbatches', 'highly_variable_intersection'\n",
      "    uns: 'hvg', 'log1p'\n",
      "    obsm: 'X_umap'\n",
      "    layers: 'counts'\n",
      "number of background genes = 0 \n",
      "before filtering:  21043, after filtering: 21043 \n",
      "at least 0.4666666666666667 of samples reported 2000hvg genes\n"
     ]
    },
    {
     "data": {
      "image/png": "[encoded data removed]",
      "text/plain": [
       "<Figure size 640x480 with 1 Axes>"
      ]
     },
     "metadata": {},
     "output_type": "display_data"
    },
    {
     "name": "stdout",
     "output_type": "stream",
     "text": [
      " 2000\n"
     ]
    }
   ],
   "source": [
    "# load consensus state markers: \n",
    "data = pd.read_csv(\"../../data/consensus_markers.csv\")\n",
    "\n",
    "# merge hvg and take hvg intersects\n",
    "\n",
    "integrated_data= [Chaffin2022_fibs, \n",
    "                    Koenig2022_fibs, \n",
    "                    Reichart2022_fibs,\n",
    "                    Simonson2023_fibs]\n",
    "\n",
    "# Assuming 'integrated_data' is a list of AnnData objects\n",
    "\n",
    "# Define the number of highly variable genes you want to select across studys:\n",
    "num_hvg = 2000\n",
    "# across samples (per study)\n",
    "num_hvg_study= 2000\n",
    "\n",
    "# Create an empty list to store highly variable genes\n",
    "hvg_list = []\n",
    "\n",
    "#select top N cell type markers for exclusion\n",
    "background_genes= select_cmarkers(cmarkers, 0, \"Fib\")\n",
    "\n",
    "# Loop through each AnnData object in 'integrated_data'\n",
    "for x in integrated_data:\n",
    "    # print(x)\n",
    "    # after running this without the regresing step we found a cluster that was not interpretable as it clusterd\n",
    "    # low count cells. \n",
    "    x = x[~x.obs_names.isin(poorQ_cells)]\n",
    "    print(x)\n",
    "\n",
    "    # Find the variable features using 'vst' selection method, use this only if not calculated earlier\n",
    "    #x.var['highly_variable'] = True\n",
    "    #  sc.pp.highly_variable_genes(x, flavor='seurat_vst', n_top_genes=num_hvg)\n",
    "\n",
    "    # in case hvg are already calculated, calculate the overlap of hvg between samples\n",
    "    x.var[\"hvg_prop\"]= x.var[\"highly_variable_nbatches\"] / len(x.obs.sample_id.unique())\n",
    "    \n",
    "    sns.kdeplot( x.var[\"hvg_prop\"], fill=True)\n",
    "\n",
    "    # Add labels and a title\n",
    "    plt.xlabel(\"proportion of samples with hvg\")\n",
    "    plt.ylabel('Density')\n",
    "    \n",
    "    # extract genes and sort by the prorportion of samples reporting\n",
    "    sorted_df = x.var.sort_values(by=\"hvg_prop\", ascending=False)\n",
    "    \n",
    "    # filter this list by background genes\n",
    "    print(f\"number of background genes = {len(background_genes)} \")\n",
    "    filtered_df = sorted_df[~sorted_df.index.isin(background_genes)]\n",
    "    print(f\"before filtering:  {len(sorted_df)}, after filtering: {len(filtered_df)} \")\n",
    "    \n",
    "    sorted_df= filtered_df\n",
    "\n",
    "    top_n_values = sorted_df.head(num_hvg_study)\n",
    "    min_value = sorted_df.head(num_hvg_study)[\"hvg_prop\"].min()\n",
    "    \n",
    "    print(f\"at least {min_value} of samples reported {num_hvg_study}hvg genes\")\n",
    "\n",
    "    # Append variable features to 'hvg_list'\n",
    "    #hvg_list.extend(x.var_names[x.var['highly_variable_intersection']])\n",
    "    hvg_list.extend(top_n_values.index)\n",
    "\n",
    "# Count the frequency of each gene in 'hvg_list' and sort in decreasing order\n",
    "gene_counts = pd.Series(hvg_list).value_counts().sort_values(ascending=False)\n",
    "\n",
    "# Create a DataFrame and group by gene count\n",
    "gene_selection_plt = pd.DataFrame({'gene': gene_counts.index, 'ngenes': gene_counts.values})\n",
    "gene_selection_plt = gene_selection_plt.groupby('gene').sum().reset_index()\n",
    "\n",
    "# Create a bar plot using matplotlib\n",
    "plt.hist(gene_selection_plt.ngenes, bins=10, edgecolor='black') \n",
    "plt.xlabel('Number of Datasets')\n",
    "plt.ylabel('Number of Genes')\n",
    "plt.show()\n",
    "\n",
    "#make sure that no gene is selected that was reported by only one study\n",
    "gene_selection_plt[gene_selection_plt[\"ngenes\"]>1]\n",
    "# Select the top 'num_hvg' genes\n",
    "gene_selection = gene_counts.index[:num_hvg]\n",
    "\n",
    "del integrated_data\n",
    "print(f\" {len(gene_selection)}\")\n",
    "#print(f\"{andata.var_names.isin(gene_selection).sum()} of {len(gene_selection)} genes are in concatenated anndata\")"
   ]
  },
  {
   "cell_type": "code",
   "execution_count": 9,
   "metadata": {},
   "outputs": [],
   "source": [
    "## Merge data: \n",
    "andata= ad.concat([Chaffin2022_fibs, Koenig2022_fibs, Reichart2022_fibs, Simonson2023_fibs])\n"
   ]
  },
  {
   "cell_type": "code",
   "execution_count": 10,
   "metadata": {},
   "outputs": [
    {
     "name": "stdout",
     "output_type": "stream",
     "text": [
      "Duplicate obs_names:\n",
      "                    obs_names\n",
      "4898     AGAACCTTCCCTGGTT-1-2\n",
      "8545     AGTAGCTTCGCTATTT-1-3\n",
      "11926    TAACCAGAGCGTGTCC-1-6\n",
      "12407    AAACGCTTCGCAGTGC-1-7\n",
      "18412   ATTGGGTCATGAGAAT-1-11\n",
      "19125   CATGAGTAGTTAGAAC-1-11\n",
      "19410   CCCTAACAGGATGAGA-1-11\n",
      "19525   GATGAGGGTCTACAGT-1-11\n",
      "19762   AATAGAGAGTAAACGT-1-11\n",
      "20056   GGGTGAAGTGGAACAC-1-11\n",
      "24760   GTGCAGCGTCTACTGA-1-13\n",
      "223669   AGAACCTTCCCTGGTT-1-2\n",
      "223979   AGTAGCTTCGCTATTT-1-3\n",
      "229544   TAACCAGAGCGTGTCC-1-6\n",
      "230730   AAACGCTTCGCAGTGC-1-7\n",
      "237223  ATTGGGTCATGAGAAT-1-11\n",
      "237509  AATAGAGAGTAAACGT-1-11\n",
      "238524  GATGAGGGTCTACAGT-1-11\n",
      "238526  CATGAGTAGTTAGAAC-1-11\n",
      "238533  GGGTGAAGTGGAACAC-1-11\n",
      "238682  CCCTAACAGGATGAGA-1-11\n",
      "240578  GTGCAGCGTCTACTGA-1-13\n",
      "Number of duplicates: 22\n",
      "Duplicate obs_names:\n",
      "Empty DataFrame\n",
      "Columns: [obs_names]\n",
      "Index: []\n",
      "Number of duplicates: 0\n"
     ]
    }
   ],
   "source": [
    "\n",
    "# Create a pandas DataFrame with the 'obs_names' column\n",
    "obs_df = pd.DataFrame(andata.obs_names, columns=['obs_names'])\n",
    "\n",
    "# Count and print duplicates\n",
    "duplicate_obs = obs_df[obs_df.duplicated(keep=False)]\n",
    "print(\"Duplicate obs_names:\")\n",
    "print(duplicate_obs)\n",
    "\n",
    "# Count the number of duplicates\n",
    "num_duplicates = len(duplicate_obs)\n",
    "print(f\"Number of duplicates: {num_duplicates}\")\n",
    "\n",
    "\n",
    "andata.obs_names_make_unique()\n",
    "\n",
    "# Create a pandas DataFrame with the 'obs_names' column\n",
    "obs_df = pd.DataFrame(andata.obs_names, columns=['obs_names'])\n",
    "\n",
    "# Count and print duplicates\n",
    "duplicate_obs = obs_df[obs_df.duplicated(keep=False)]\n",
    "print(\"Duplicate obs_names:\")\n",
    "print(duplicate_obs)\n",
    "\n",
    "# Count the number of duplicates\n",
    "num_duplicates = len(duplicate_obs)\n",
    "print(f\"Number of duplicates: {num_duplicates}\")"
   ]
  },
  {
   "cell_type": "code",
   "execution_count": 11,
   "metadata": {},
   "outputs": [
    {
     "name": "stdout",
     "output_type": "stream",
     "text": [
      "1629 of 2000 genes are in concatenated anndata\n"
     ]
    }
   ],
   "source": [
    "## here we add the step of regressing out the number of counts per cell\n",
    "print(f\"{andata.var_names.isin(gene_selection).sum()} of {len(gene_selection)} genes are in concatenated anndata\")\n",
    "\n",
    "gene_selection2= andata.var_names[andata.var_names.isin(gene_selection)]\n",
    "\n",
    "gene_selection2.to_frame().to_csv('../../output/fib_sub_analysis/gene_selection_fib_integration.csv', index=False)\n",
    "\n",
    "subset_adata = andata[:, gene_selection2]\n",
    "\n"
   ]
  },
  {
   "cell_type": "code",
   "execution_count": 12,
   "metadata": {},
   "outputs": [
    {
     "name": "stdout",
     "output_type": "stream",
     "text": [
      "subset_adata contains cells from poorQ_cells\n"
     ]
    }
   ],
   "source": [
    "subset_adata_obs_names = subset_adata.obs_names.tolist()\n",
    "poorQ_cells_in_subset = [cell for cell in poorQ_cells if cell in subset_adata_obs_names]\n",
    "\n",
    "if len(poorQ_cells_in_subset) > 0:\n",
    "    print(\"subset_adata contains cells from poorQ_cells\")\n",
    "else:\n",
    "    print(\"subset_adata does not contain cells from poorQ_cells\")"
   ]
  },
  {
   "cell_type": "code",
   "execution_count": 13,
   "metadata": {},
   "outputs": [],
   "source": [
    "## regress out the number of counts per cell and scale the data\n",
    "## this step was added after defining a cell state with high number of cells with low counts that stil passed QC control \n",
    "sc.pp.regress_out(subset_adata, keys=['total_counts'])\n",
    "sc.pp.scale(subset_adata, max_value=10)"
   ]
  },
  {
   "cell_type": "code",
   "execution_count": 14,
   "metadata": {},
   "outputs": [
    {
     "name": "stdout",
     "output_type": "stream",
     "text": [
      "WARNING: saving figure to file figures/pca_variance_ratio.pdf\n"
     ]
    },
    {
     "data": {
      "image/png": "[encoded data removed]",
      "text/plain": [
       "<Figure size 640x480 with 1 Axes>"
      ]
     },
     "metadata": {},
     "output_type": "display_data"
    }
   ],
   "source": [
    "## run PCA \n",
    "sc.tl.pca(subset_adata, svd_solver='arpack')\n",
    "sc.pl.pca_variance_ratio(subset_adata, log=True, n_pcs=50, save='')\n"
   ]
  },
  {
   "cell_type": "code",
   "execution_count": 15,
   "metadata": {},
   "outputs": [
    {
     "name": "stderr",
     "output_type": "stream",
     "text": [
      "2024-08-08 14:46:54,011 - harmonypy - INFO - Computing initial centroids with sklearn.KMeans...\n",
      "2024-08-08 14:48:38,623 - harmonypy - INFO - sklearn.KMeans initialization complete.\n",
      "2024-08-08 14:48:40,242 - harmonypy - INFO - Iteration 1 of 10\n",
      "2024-08-08 14:53:41,101 - harmonypy - INFO - Iteration 2 of 10\n",
      "2024-08-08 14:59:21,334 - harmonypy - INFO - Iteration 3 of 10\n",
      "2024-08-08 15:04:36,023 - harmonypy - INFO - Converged after 3 iterations\n"
     ]
    }
   ],
   "source": [
    "\n",
    "sce.pp.harmony_integrate(subset_adata, ['batch', \"sample_id\"], theta =1)"
   ]
  },
  {
   "cell_type": "code",
   "execution_count": 16,
   "metadata": {},
   "outputs": [],
   "source": [
    "# save the origianl pca space and copy the embedding into the original data object\n",
    "# help(sce.pp.harmony_integrate)\n",
    "\n",
    "# save the original pca\n",
    "andata.obsm[\"X_pca\"]= subset_adata.obsm[\"X_pca\"]\n",
    "andata.obsm[\"X_pca_harmony\"]= subset_adata.obsm[\"X_pca_harmony\"]"
   ]
  },
  {
   "cell_type": "code",
   "execution_count": 17,
   "metadata": {},
   "outputs": [
    {
     "data": {
      "text/plain": [
       "<242045x14748 sparse matrix of type '<class 'numpy.float64'>'\n",
       "\twith 245432697 stored elements in Compressed Sparse Row format>"
      ]
     },
     "execution_count": 17,
     "metadata": {},
     "output_type": "execute_result"
    }
   ],
   "source": [
    "# now we have the batch corrected embedding together with the original counts\n",
    "andata.layers[\"counts\"]"
   ]
  },
  {
   "cell_type": "code",
   "execution_count": 18,
   "metadata": {},
   "outputs": [
    {
     "name": "stderr",
     "output_type": "stream",
     "text": [
      "2024-08-08 15:04:38.691667: I tensorflow/core/util/port.cc:111] oneDNN custom operations are on. You may see slightly different numerical results due to floating-point round-off errors from different computation orders. To turn them off, set the environment variable `TF_ENABLE_ONEDNN_OPTS=0`.\n",
      "2024-08-08 15:04:38.915404: E tensorflow/compiler/xla/stream_executor/cuda/cuda_dnn.cc:9342] Unable to register cuDNN factory: Attempting to register factory for plugin cuDNN when one has already been registered\n",
      "2024-08-08 15:04:38.915485: E tensorflow/compiler/xla/stream_executor/cuda/cuda_fft.cc:609] Unable to register cuFFT factory: Attempting to register factory for plugin cuFFT when one has already been registered\n",
      "2024-08-08 15:04:38.916610: E tensorflow/compiler/xla/stream_executor/cuda/cuda_blas.cc:1518] Unable to register cuBLAS factory: Attempting to register factory for plugin cuBLAS when one has already been registered\n",
      "2024-08-08 15:04:39.028490: I tensorflow/core/platform/cpu_feature_guard.cc:182] This TensorFlow binary is optimized to use available CPU instructions in performance-critical operations.\n",
      "To enable the following instructions: AVX2 AVX_VNNI FMA, in other operations, rebuild TensorFlow with the appropriate compiler flags.\n",
      "2024-08-08 15:04:39.899395: W tensorflow/compiler/tf2tensorrt/utils/py_utils.cc:38] TF-TRT Warning: Could not find TensorRT\n"
     ]
    }
   ],
   "source": [
    "#calculate neightorhood graph on coorrected PCA and umap\n",
    "sc.pp.neighbors(andata, n_neighbors=15, n_pcs=30, use_rep=\"X_pca_harmony\")\n",
    "sc.tl.umap(andata, min_dist=1.5, spread=2.0, random_state=42)\n",
    "#sc.tl.leiden(andata, resolution=0.8)"
   ]
  },
  {
   "cell_type": "code",
   "execution_count": 19,
   "metadata": {},
   "outputs": [],
   "source": [
    "andata.write('/home/jan/R-projects/reheat2_pilot/data/celltype_data/Fibs/fibs_integrated_sub_reg_filt.h5ad' )"
   ]
  }
 ],
 "metadata": {
  "kernelspec": {
   "display_name": "scpy",
   "language": "python",
   "name": "python3"
  },
  "language_info": {
   "codemirror_mode": {
    "name": "ipython",
    "version": 3
   },
   "file_extension": ".py",
   "mimetype": "text/x-python",
   "name": "python",
   "nbconvert_exporter": "python",
   "pygments_lexer": "ipython3",
   "version": "3.11.6"
  },
  "orig_nbformat": 4
 },
 "nbformat": 4,
 "nbformat_minor": 2
}
