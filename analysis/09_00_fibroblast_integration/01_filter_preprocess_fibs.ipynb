{
 "cells": [
  {
   "cell_type": "markdown",
   "metadata": {},
   "source": [
    "This script will process single cell atlases for a sub cell type analysis.\n",
    "1. load a single cell atlas; \n",
    "2. subset to a given cell type\n",
    "3. perform simple QC and normalization \n",
    "4. save sc obj\n"
   ]
  },
  {
   "cell_type": "code",
   "execution_count": 1,
   "metadata": {},
   "outputs": [],
   "source": [
    "import scanpy as sc\n",
    "import anndata as ad\n",
    "import pandas as pd\n",
    "import numpy as np\n",
    "import os\n",
    "from anndata.experimental.multi_files import AnnCollection\n",
    "#import scanpy.external as sce\n",
    "\n",
    "\n",
    "cell_type_oi= \"Fib\""
   ]
  },
  {
   "cell_type": "markdown",
   "metadata": {},
   "source": [
    "load atlases"
   ]
  },
  {
   "cell_type": "code",
   "execution_count": 2,
   "metadata": {},
   "outputs": [],
   "source": [
    "def filter_data(adata, mt_percent=1, max_gene_count=2500):\n",
    "    #filter genes and cells basd on min\n",
    "    sc.pp.filter_cells(adata, min_genes=200)\n",
    "    sc.pp.filter_genes(adata, min_cells=10)\n",
    "    \n",
    "    #add mt- gene as a threshold\n",
    "    adata.var['mt'] = adata.var_names.str.startswith('MT-')  # annotate the group of mitochondrial genes as 'mt'\n",
    "    sc.pp.calculate_qc_metrics(adata, qc_vars=['mt'], percent_top=None, log1p=False, inplace=True)\n",
    "    \n",
    "    #plot\n",
    "    #sc.pl.violin(adata, ['n_genes_by_counts', 'total_counts', 'pct_counts_mt'],\n",
    "     #jitter=0.4, multi_panel=True)\n",
    "\n",
    "\n",
    "    sc.pl.scatter(adata, x='total_counts', y='pct_counts_mt')\n",
    "    sc.pl.scatter(adata, x='total_counts', y='n_genes_by_counts')\n",
    "    \n",
    "    #filter n gene count and mt percent\n",
    "    adata = adata[adata.obs.n_genes_by_counts < max_gene_count, :]\n",
    "    adata = adata[adata.obs.pct_counts_mt < mt_percent, :]\n",
    "   \n",
    "\n",
    "    return adata\n",
    "\n",
    "def normalize_data(adata):\n",
    "    sc.pp.normalize_total(adata, target_sum=1e4)\n",
    "    sc.pp.log1p(adata)\n",
    "    sc.pp.highly_variable_genes(adata, min_mean=0.0125, max_mean=3, min_disp=0.5, batch_key= \"sample_id\")\n",
    "    sc.pl.highly_variable_genes(adata)\n",
    "    #sc.pp.scale(adata, max_value=10)\n",
    "    #sc.tl.pca(adata, svd_solver='arpack',  n_comps= 40)\n",
    "    #sc.pl.umap(adata, color=\"sample_id\")\n",
    "\n",
    "    return adata\n",
    "\n"
   ]
  },
  {
   "cell_type": "code",
   "execution_count": 3,
   "metadata": {},
   "outputs": [
    {
     "name": "stdout",
     "output_type": "stream",
     "text": [
      "['Reichart2022_DCM.h5ad', 'Simonson2023_ICM.h5ad', 'Koenig2022_DCM.h5ad', 'Chaffin2022_DCM.h5ad']\n",
      "['Reichart2022', 'Simonson2023', 'Koenig2022', 'Chaffin2022']\n"
     ]
    }
   ],
   "source": [
    "# all h5ads are stored \n",
    "#remote:\n",
    "#sds_dir = \"mnt/sds-hd/sd22b002/projects/reheat3/simplified/\"\n",
    "\n",
    "#local \n",
    "sds_dir = \"/home/jan/R-projects/reheat2_pilot/data/simplified/\"\n",
    "\n",
    "files= os.listdir(sds_dir)\n",
    "print(files)\n",
    "\n",
    "dataset = [string.split(\"_\")[0] for string in files]\n",
    "\n",
    "print(dataset)\n",
    "#\n",
    "\n"
   ]
  },
  {
   "cell_type": "code",
   "execution_count": 4,
   "metadata": {},
   "outputs": [
    {
     "name": "stdout",
     "output_type": "stream",
     "text": [
      "Processing file: Reichart2022_DCM.h5ad\n"
     ]
    },
    {
     "name": "stderr",
     "output_type": "stream",
     "text": [
      "/home/jan/programs/mambaforge/envs/scpy/lib/python3.11/site-packages/anndata/_core/anndata.py:949: UserWarning: \n",
      "AnnData expects .var.index to contain strings, but got values like:\n",
      "    ['MIR1302-2HG', 'FAM138A', 'OR4F5', 'RP11-34P13.7', 'RP11-34P13.8']\n",
      "\n",
      "    Inferred to be: categorical\n",
      "\n",
      "  names = self._prep_dim_index(names, \"var\")\n"
     ]
    },
    {
     "ename": "KeyboardInterrupt",
     "evalue": "",
     "output_type": "error",
     "traceback": [
      "\u001b[0;31m---------------------------------------------------------------------------\u001b[0m",
      "\u001b[0;31mKeyboardInterrupt\u001b[0m                         Traceback (most recent call last)",
      "Cell \u001b[0;32mIn[4], line 18\u001b[0m\n\u001b[1;32m     15\u001b[0m scdat\u001b[38;5;241m.\u001b[39mobs[\u001b[38;5;124m'\u001b[39m\u001b[38;5;124mbatch\u001b[39m\u001b[38;5;124m'\u001b[39m] \u001b[38;5;241m=\u001b[39m dataset[i]\n\u001b[1;32m     17\u001b[0m \u001b[38;5;66;03m#basic preprocessing:\u001b[39;00m\n\u001b[0;32m---> 18\u001b[0m scdat\u001b[38;5;241m=\u001b[39m filter_data(scdat)\n\u001b[1;32m     19\u001b[0m scdat\u001b[38;5;241m.\u001b[39mlayers[\u001b[38;5;124m\"\u001b[39m\u001b[38;5;124mcounts\u001b[39m\u001b[38;5;124m\"\u001b[39m] \u001b[38;5;241m=\u001b[39m scdat\u001b[38;5;241m.\u001b[39mX\u001b[38;5;241m.\u001b[39mcopy()\n\u001b[1;32m     20\u001b[0m scdat \u001b[38;5;241m=\u001b[39m normalize_data(scdat)\n",
      "Cell \u001b[0;32mIn[2], line 3\u001b[0m, in \u001b[0;36mfilter_data\u001b[0;34m(adata, mt_percent, max_gene_count)\u001b[0m\n\u001b[1;32m      1\u001b[0m \u001b[38;5;28;01mdef\u001b[39;00m \u001b[38;5;21mfilter_data\u001b[39m(adata, mt_percent\u001b[38;5;241m=\u001b[39m\u001b[38;5;241m1\u001b[39m, max_gene_count\u001b[38;5;241m=\u001b[39m\u001b[38;5;241m2500\u001b[39m):\n\u001b[1;32m      2\u001b[0m     \u001b[38;5;66;03m#filter genes and cells basd on min\u001b[39;00m\n\u001b[0;32m----> 3\u001b[0m     sc\u001b[38;5;241m.\u001b[39mpp\u001b[38;5;241m.\u001b[39mfilter_cells(adata, min_genes\u001b[38;5;241m=\u001b[39m\u001b[38;5;241m200\u001b[39m)\n\u001b[1;32m      4\u001b[0m     sc\u001b[38;5;241m.\u001b[39mpp\u001b[38;5;241m.\u001b[39mfilter_genes(adata, min_cells\u001b[38;5;241m=\u001b[39m\u001b[38;5;241m10\u001b[39m)\n\u001b[1;32m      6\u001b[0m     \u001b[38;5;66;03m#add mt- gene as a threshold\u001b[39;00m\n",
      "File \u001b[0;32m~/programs/mambaforge/envs/scpy/lib/python3.11/site-packages/scanpy/preprocessing/_simple.py:140\u001b[0m, in \u001b[0;36mfilter_cells\u001b[0;34m(data, min_counts, min_genes, max_counts, max_genes, inplace, copy)\u001b[0m\n\u001b[1;32m    138\u001b[0m     \u001b[38;5;28;01melse\u001b[39;00m:\n\u001b[1;32m    139\u001b[0m         adata\u001b[38;5;241m.\u001b[39mobs[\u001b[38;5;124m'\u001b[39m\u001b[38;5;124mn_genes\u001b[39m\u001b[38;5;124m'\u001b[39m] \u001b[38;5;241m=\u001b[39m number\n\u001b[0;32m--> 140\u001b[0m     adata\u001b[38;5;241m.\u001b[39m_inplace_subset_obs(cell_subset)\n\u001b[1;32m    141\u001b[0m     \u001b[38;5;28;01mreturn\u001b[39;00m adata \u001b[38;5;28;01mif\u001b[39;00m copy \u001b[38;5;28;01melse\u001b[39;00m \u001b[38;5;28;01mNone\u001b[39;00m\n\u001b[1;32m    142\u001b[0m X \u001b[38;5;241m=\u001b[39m data  \u001b[38;5;66;03m# proceed with processing the data matrix\u001b[39;00m\n",
      "File \u001b[0;32m~/programs/mambaforge/envs/scpy/lib/python3.11/site-packages/anndata/_core/anndata.py:1314\u001b[0m, in \u001b[0;36mAnnData._inplace_subset_obs\u001b[0;34m(self, index)\u001b[0m\n\u001b[1;32m   1308\u001b[0m \u001b[38;5;28;01mdef\u001b[39;00m \u001b[38;5;21m_inplace_subset_obs\u001b[39m(\u001b[38;5;28mself\u001b[39m, index: Index1D):\n\u001b[1;32m   1309\u001b[0m \u001b[38;5;250m    \u001b[39m\u001b[38;5;124;03m\"\"\"\\\u001b[39;00m\n\u001b[1;32m   1310\u001b[0m \u001b[38;5;124;03m    Inplace subsetting along variables dimension.\u001b[39;00m\n\u001b[1;32m   1311\u001b[0m \n\u001b[1;32m   1312\u001b[0m \u001b[38;5;124;03m    Same as `adata = adata[index, :]`, but inplace.\u001b[39;00m\n\u001b[1;32m   1313\u001b[0m \u001b[38;5;124;03m    \"\"\"\u001b[39;00m\n\u001b[0;32m-> 1314\u001b[0m     adata_subset \u001b[38;5;241m=\u001b[39m \u001b[38;5;28mself\u001b[39m[index]\u001b[38;5;241m.\u001b[39mcopy()\n\u001b[1;32m   1315\u001b[0m     \u001b[38;5;28mself\u001b[39m\u001b[38;5;241m.\u001b[39m_init_as_actual(adata_subset)\n",
      "File \u001b[0;32m~/programs/mambaforge/envs/scpy/lib/python3.11/site-packages/anndata/_core/anndata.py:1583\u001b[0m, in \u001b[0;36mAnnData.copy\u001b[0;34m(self, filename)\u001b[0m\n\u001b[1;32m   1576\u001b[0m \u001b[38;5;28;01mif\u001b[39;00m \u001b[38;5;129;01mnot\u001b[39;00m \u001b[38;5;28mself\u001b[39m\u001b[38;5;241m.\u001b[39misbacked:\n\u001b[1;32m   1577\u001b[0m     \u001b[38;5;28;01mif\u001b[39;00m \u001b[38;5;28mself\u001b[39m\u001b[38;5;241m.\u001b[39mis_view \u001b[38;5;129;01mand\u001b[39;00m \u001b[38;5;28mself\u001b[39m\u001b[38;5;241m.\u001b[39m_has_X():\n\u001b[1;32m   1578\u001b[0m         \u001b[38;5;66;03m# TODO: How do I unambiguously check if this is a copy?\u001b[39;00m\n\u001b[1;32m   1579\u001b[0m         \u001b[38;5;66;03m# Subsetting this way means we don’t have to have a view type\u001b[39;00m\n\u001b[1;32m   1580\u001b[0m         \u001b[38;5;66;03m# defined for the matrix, which is needed for some of the\u001b[39;00m\n\u001b[1;32m   1581\u001b[0m         \u001b[38;5;66;03m# current distributed backend. Specifically Dask.\u001b[39;00m\n\u001b[1;32m   1582\u001b[0m         \u001b[38;5;28;01mreturn\u001b[39;00m \u001b[38;5;28mself\u001b[39m\u001b[38;5;241m.\u001b[39m_mutated_copy(\n\u001b[0;32m-> 1583\u001b[0m             X\u001b[38;5;241m=\u001b[39m_subset(\u001b[38;5;28mself\u001b[39m\u001b[38;5;241m.\u001b[39m_adata_ref\u001b[38;5;241m.\u001b[39mX, (\u001b[38;5;28mself\u001b[39m\u001b[38;5;241m.\u001b[39m_oidx, \u001b[38;5;28mself\u001b[39m\u001b[38;5;241m.\u001b[39m_vidx))\u001b[38;5;241m.\u001b[39mcopy()\n\u001b[1;32m   1584\u001b[0m         )\n\u001b[1;32m   1585\u001b[0m     \u001b[38;5;28;01melse\u001b[39;00m:\n\u001b[1;32m   1586\u001b[0m         \u001b[38;5;28;01mreturn\u001b[39;00m \u001b[38;5;28mself\u001b[39m\u001b[38;5;241m.\u001b[39m_mutated_copy()\n",
      "File \u001b[0;32m~/programs/mambaforge/envs/scpy/lib/python3.11/site-packages/scipy/sparse/_data.py:94\u001b[0m, in \u001b[0;36m_data_matrix.copy\u001b[0;34m(self)\u001b[0m\n\u001b[1;32m     93\u001b[0m \u001b[38;5;28;01mdef\u001b[39;00m \u001b[38;5;21mcopy\u001b[39m(\u001b[38;5;28mself\u001b[39m):\n\u001b[0;32m---> 94\u001b[0m     \u001b[38;5;28;01mreturn\u001b[39;00m \u001b[38;5;28mself\u001b[39m\u001b[38;5;241m.\u001b[39m_with_data(\u001b[38;5;28mself\u001b[39m\u001b[38;5;241m.\u001b[39mdata\u001b[38;5;241m.\u001b[39mcopy(), copy\u001b[38;5;241m=\u001b[39m\u001b[38;5;28;01mTrue\u001b[39;00m)\n",
      "\u001b[0;31mKeyboardInterrupt\u001b[0m: "
     ]
    }
   ],
   "source": [
    "# Run all the steps and save object\n",
    "\n",
    "for i in range(len(files)):\n",
    "    print(\"Processing file:\", files[i])\n",
    "    scdat = sc.read_h5ad(sds_dir + files[i])\n",
    "\n",
    "    #filter cells of interest\n",
    "    scdat= scdat[scdat.obs.cell_type == cell_type_oi]\n",
    "    \n",
    "    # update the var names of this data set to gene symbols\n",
    "    if files[i] == 'Reichart2022_DCM.h5ad':\n",
    "        scdat.var_names= scdat.var[\"feature_name\"]\n",
    "    \n",
    "    # add data set variable    \n",
    "    scdat.obs['batch'] = dataset[i]\n",
    "\n",
    "    #basic preprocessing:\n",
    "    scdat= filter_data(scdat)\n",
    "    scdat.layers[\"counts\"] = scdat.X.copy()\n",
    "    scdat = normalize_data(scdat)\n",
    "    \n",
    "    #write file: \n",
    "    print(\"Writing file:\", files[i])\n",
    "    scdat.write('/home/jan/R-projects/reheat2_pilot/data/celltype_data/Fibs/'+ dataset[i]+ \"_fibs.h5ad\" )\n",
    "    \n",
    "\n",
    "\n",
    "\n",
    "    \n",
    "\n",
    "\n"
   ]
  },
  {
   "cell_type": "code",
   "execution_count": null,
   "metadata": {},
   "outputs": [],
   "source": []
  }
 ],
 "metadata": {
  "kernelspec": {
   "display_name": "scpy",
   "language": "python",
   "name": "python3"
  },
  "language_info": {
   "codemirror_mode": {
    "name": "ipython",
    "version": 3
   },
   "file_extension": ".py",
   "mimetype": "text/x-python",
   "name": "python",
   "nbconvert_exporter": "python",
   "pygments_lexer": "ipython3",
   "version": "3.11.6"
  },
  "orig_nbformat": 4
 },
 "nbformat": 4,
 "nbformat_minor": 2
}
