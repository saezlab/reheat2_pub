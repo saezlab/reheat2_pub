{
 "cells": [
  {
   "cell_type": "code",
   "execution_count": 26,
   "id": "5847ab9e-67c2-441c-b587-144f5daed009",
   "metadata": {},
   "outputs": [],
   "source": [
    "#!/usr/bin/env python\n",
    "# coding: utf-8\n",
    "import sys\n",
    "import scanpy as sc\n",
    "import anndata\n",
    "import pandas as pd\n",
    "import numpy as np\n",
    "import os\n",
    "import gc\n",
    "import decoupler as dc\n",
    "import regex as re\n",
    "os.chdir(\"/Volumes/RicoData2/ReHeat2/raw\")"
   ]
  },
  {
   "cell_type": "code",
   "execution_count": 51,
   "id": "e57abcc3-855e-4095-ac2e-43d128474af8",
   "metadata": {},
   "outputs": [],
   "source": [
    "sc_dat = sc.read_h5ad(filename = \"./Chaffin2022_DCM/counts.h5ad\")\n",
    "sc_dat.obs[\"barcode\"] = sc_dat.obs.index.values"
   ]
  },
  {
   "cell_type": "code",
   "execution_count": 52,
   "id": "08db3b28-bc53-413a-9770-8774113222ae",
   "metadata": {},
   "outputs": [
    {
     "data": {
      "text/plain": [
       "['biosample_id',\n",
       " 'donor_id',\n",
       " 'disease',\n",
       " 'sex',\n",
       " 'age',\n",
       " 'lvef',\n",
       " 'cell_type_leiden0.6',\n",
       " 'SubCluster',\n",
       " 'cellbender_ncount',\n",
       " 'cellbender_ngenes',\n",
       " 'cellranger_percent_mito',\n",
       " 'exon_prop',\n",
       " 'cellbender_entropy',\n",
       " 'cellranger_doublet_scores',\n",
       " 'barcode']"
      ]
     },
     "execution_count": 52,
     "metadata": {},
     "output_type": "execute_result"
    }
   ],
   "source": [
    "list(sc_dat.obs.columns)"
   ]
  },
  {
   "cell_type": "code",
   "execution_count": 53,
   "id": "1ce32af6-a163-4c28-941b-6378ce8e45e2",
   "metadata": {},
   "outputs": [
    {
     "data": {
      "text/html": [
       "<div>\n",
       "<style scoped>\n",
       "    .dataframe tbody tr th:only-of-type {\n",
       "        vertical-align: middle;\n",
       "    }\n",
       "\n",
       "    .dataframe tbody tr th {\n",
       "        vertical-align: top;\n",
       "    }\n",
       "\n",
       "    .dataframe thead th {\n",
       "        text-align: right;\n",
       "    }\n",
       "</style>\n",
       "<table border=\"1\" class=\"dataframe\">\n",
       "  <thead>\n",
       "    <tr style=\"text-align: right;\">\n",
       "      <th></th>\n",
       "      <th>biosample_id</th>\n",
       "      <th>donor_id</th>\n",
       "      <th>disease</th>\n",
       "    </tr>\n",
       "  </thead>\n",
       "  <tbody>\n",
       "    <tr>\n",
       "      <th>TTCTTCCGTTCAACGT-1-0</th>\n",
       "      <td>LV_1622_2_nf</td>\n",
       "      <td>P1622</td>\n",
       "      <td>NF</td>\n",
       "    </tr>\n",
       "    <tr>\n",
       "      <th>ACAGCCGCAAGCGAGT-1-1</th>\n",
       "      <td>LV_1422_1_hcm</td>\n",
       "      <td>P1422</td>\n",
       "      <td>HCM</td>\n",
       "    </tr>\n",
       "    <tr>\n",
       "      <th>CAACCAAAGACCCGCT-1-2</th>\n",
       "      <td>LV_1722_2_hcm</td>\n",
       "      <td>P1722</td>\n",
       "      <td>HCM</td>\n",
       "    </tr>\n",
       "    <tr>\n",
       "      <th>CTGCTCAAGGCATCAG-1-3</th>\n",
       "      <td>LV_1462_1_hcm</td>\n",
       "      <td>P1462</td>\n",
       "      <td>HCM</td>\n",
       "    </tr>\n",
       "    <tr>\n",
       "      <th>AACCTGAGTGTACATC-1-4</th>\n",
       "      <td>LV_1558_2_nf</td>\n",
       "      <td>P1558</td>\n",
       "      <td>NF</td>\n",
       "    </tr>\n",
       "    <tr>\n",
       "      <th>...</th>\n",
       "      <td>...</td>\n",
       "      <td>...</td>\n",
       "      <td>...</td>\n",
       "    </tr>\n",
       "    <tr>\n",
       "      <th>CAACAGTGTACGATGG-1-75</th>\n",
       "      <td>LV_1472_1_dcm</td>\n",
       "      <td>P1472</td>\n",
       "      <td>DCM</td>\n",
       "    </tr>\n",
       "    <tr>\n",
       "      <th>GTCAAACCACCCTATC-1-76</th>\n",
       "      <td>LV_1735_2_hcm</td>\n",
       "      <td>P1735</td>\n",
       "      <td>HCM</td>\n",
       "    </tr>\n",
       "    <tr>\n",
       "      <th>ATAGACCGTCACCGAC-1-77</th>\n",
       "      <td>LV_1600_2_nf</td>\n",
       "      <td>P1600</td>\n",
       "      <td>NF</td>\n",
       "    </tr>\n",
       "    <tr>\n",
       "      <th>ATGCATGCATGCGTGC-1-78</th>\n",
       "      <td>LV_1606_1_dcm</td>\n",
       "      <td>P1606</td>\n",
       "      <td>DCM</td>\n",
       "    </tr>\n",
       "    <tr>\n",
       "      <th>CCGTAGGAGACCCTTA-1-79</th>\n",
       "      <td>LV_1561_2_nf</td>\n",
       "      <td>P1561</td>\n",
       "      <td>NF</td>\n",
       "    </tr>\n",
       "  </tbody>\n",
       "</table>\n",
       "<p>80 rows × 3 columns</p>\n",
       "</div>"
      ],
      "text/plain": [
       "                        biosample_id donor_id disease\n",
       "TTCTTCCGTTCAACGT-1-0    LV_1622_2_nf    P1622      NF\n",
       "ACAGCCGCAAGCGAGT-1-1   LV_1422_1_hcm    P1422     HCM\n",
       "CAACCAAAGACCCGCT-1-2   LV_1722_2_hcm    P1722     HCM\n",
       "CTGCTCAAGGCATCAG-1-3   LV_1462_1_hcm    P1462     HCM\n",
       "AACCTGAGTGTACATC-1-4    LV_1558_2_nf    P1558      NF\n",
       "...                              ...      ...     ...\n",
       "CAACAGTGTACGATGG-1-75  LV_1472_1_dcm    P1472     DCM\n",
       "GTCAAACCACCCTATC-1-76  LV_1735_2_hcm    P1735     HCM\n",
       "ATAGACCGTCACCGAC-1-77   LV_1600_2_nf    P1600      NF\n",
       "ATGCATGCATGCGTGC-1-78  LV_1606_1_dcm    P1606     DCM\n",
       "CCGTAGGAGACCCTTA-1-79   LV_1561_2_nf    P1561      NF\n",
       "\n",
       "[80 rows x 3 columns]"
      ]
     },
     "execution_count": 53,
     "metadata": {},
     "output_type": "execute_result"
    }
   ],
   "source": [
    "#biosample_id and donor_id the same?\n",
    "#merge over donor_id\n",
    "sc_dat.obs[['biosample_id','donor_id', 'disease']].drop_duplicates()"
   ]
  },
  {
   "cell_type": "code",
   "execution_count": 54,
   "id": "28b50654-463a-497b-a81c-aa5742ae0b59",
   "metadata": {},
   "outputs": [
    {
     "data": {
      "text/plain": [
       "(42, 2)"
      ]
     },
     "execution_count": 54,
     "metadata": {},
     "output_type": "execute_result"
    }
   ],
   "source": [
    "sc_dat.obs[['donor_id', 'disease']].drop_duplicates().shape"
   ]
  },
  {
   "cell_type": "code",
   "execution_count": 55,
   "id": "f589a711-0e06-464c-94d8-2a89de01a1ae",
   "metadata": {},
   "outputs": [
    {
     "data": {
      "text/plain": [
       "(42, 1)"
      ]
     },
     "execution_count": 55,
     "metadata": {},
     "output_type": "execute_result"
    }
   ],
   "source": [
    "sc_dat.obs[['donor_id']].drop_duplicates().shape"
   ]
  },
  {
   "cell_type": "code",
   "execution_count": 56,
   "id": "68ff78fd-89f7-4c89-bdec-d56e644d7f83",
   "metadata": {},
   "outputs": [
    {
     "data": {
      "text/plain": [
       "matrix([[2.000e+00, 0.000e+00, 1.000e+00, 4.602e+03]], dtype=float32)"
      ]
     },
     "execution_count": 56,
     "metadata": {},
     "output_type": "execute_result"
    }
   ],
   "source": [
    "#Are we working with counts?\n",
    "sc_dat.X[:,0:4].sum(axis = 0)"
   ]
  },
  {
   "cell_type": "code",
   "execution_count": 57,
   "id": "740e25ef-89ef-4648-bfc2-f75ec50905ba",
   "metadata": {},
   "outputs": [
    {
     "data": {
      "text/plain": [
       "AnnData object with n_obs × n_vars = 592689 × 36601\n",
       "    obs: 'biosample_id', 'donor_id', 'disease', 'sex', 'age', 'lvef', 'cell_type_leiden0.6', 'SubCluster', 'cellbender_ncount', 'cellbender_ngenes', 'cellranger_percent_mito', 'exon_prop', 'cellbender_entropy', 'cellranger_doublet_scores', 'barcode'\n",
       "    var: 'gene_ids', 'feature_types', 'genome'\n",
       "    obsm: 'X_umap'\n",
       "    layers: 'cellranger_raw'"
      ]
     },
     "execution_count": 57,
     "metadata": {},
     "output_type": "execute_result"
    }
   ],
   "source": [
    "sc_dat"
   ]
  },
  {
   "cell_type": "code",
   "execution_count": 58,
   "id": "9e7d381c-290d-4b05-b990-59c467103382",
   "metadata": {},
   "outputs": [],
   "source": [
    "#Making a lighter object\n",
    "del sc_dat.layers[\"cellranger_raw\"]"
   ]
  },
  {
   "cell_type": "code",
   "execution_count": 59,
   "id": "0f34859e-6256-4703-b086-e614fe2db3a1",
   "metadata": {},
   "outputs": [
    {
     "data": {
      "text/html": [
       "<div>\n",
       "<style scoped>\n",
       "    .dataframe tbody tr th:only-of-type {\n",
       "        vertical-align: middle;\n",
       "    }\n",
       "\n",
       "    .dataframe tbody tr th {\n",
       "        vertical-align: top;\n",
       "    }\n",
       "\n",
       "    .dataframe thead th {\n",
       "        text-align: right;\n",
       "    }\n",
       "</style>\n",
       "<table border=\"1\" class=\"dataframe\">\n",
       "  <thead>\n",
       "    <tr style=\"text-align: right;\">\n",
       "      <th></th>\n",
       "      <th>disease</th>\n",
       "    </tr>\n",
       "  </thead>\n",
       "  <tbody>\n",
       "    <tr>\n",
       "      <th>TTCTTCCGTTCAACGT-1-0</th>\n",
       "      <td>NF</td>\n",
       "    </tr>\n",
       "    <tr>\n",
       "      <th>ACAGCCGCAAGCGAGT-1-1</th>\n",
       "      <td>HCM</td>\n",
       "    </tr>\n",
       "    <tr>\n",
       "      <th>ATAGACCAGCAGCCCT-1-8</th>\n",
       "      <td>DCM</td>\n",
       "    </tr>\n",
       "  </tbody>\n",
       "</table>\n",
       "</div>"
      ],
      "text/plain": [
       "                     disease\n",
       "TTCTTCCGTTCAACGT-1-0      NF\n",
       "ACAGCCGCAAGCGAGT-1-1     HCM\n",
       "ATAGACCAGCAGCCCT-1-8     DCM"
      ]
     },
     "execution_count": 59,
     "metadata": {},
     "output_type": "execute_result"
    }
   ],
   "source": [
    "sc_dat.obs[[\"disease\"]].drop_duplicates()"
   ]
  },
  {
   "cell_type": "code",
   "execution_count": 60,
   "id": "b14efec7-e543-4ac2-997d-57b79c689099",
   "metadata": {},
   "outputs": [],
   "source": [
    "disease_df = {'disease': ['NF', 'HCM','DCM'],\n",
    "              'disease_code': ['NF', 'HCM','DCM'],\n",
    "              'heart_failure': ['NF', 'HF','HF']}\n",
    "\n",
    "disease_df = pd.DataFrame(disease_df)"
   ]
  },
  {
   "cell_type": "code",
   "execution_count": 61,
   "id": "c43e4a23-a409-46b3-bc2f-023f291ce0ea",
   "metadata": {},
   "outputs": [
    {
     "data": {
      "text/html": [
       "<div>\n",
       "<style scoped>\n",
       "    .dataframe tbody tr th:only-of-type {\n",
       "        vertical-align: middle;\n",
       "    }\n",
       "\n",
       "    .dataframe tbody tr th {\n",
       "        vertical-align: top;\n",
       "    }\n",
       "\n",
       "    .dataframe thead th {\n",
       "        text-align: right;\n",
       "    }\n",
       "</style>\n",
       "<table border=\"1\" class=\"dataframe\">\n",
       "  <thead>\n",
       "    <tr style=\"text-align: right;\">\n",
       "      <th></th>\n",
       "      <th>disease</th>\n",
       "      <th>disease_code</th>\n",
       "      <th>heart_failure</th>\n",
       "    </tr>\n",
       "  </thead>\n",
       "  <tbody>\n",
       "    <tr>\n",
       "      <th>0</th>\n",
       "      <td>NF</td>\n",
       "      <td>NF</td>\n",
       "      <td>NF</td>\n",
       "    </tr>\n",
       "    <tr>\n",
       "      <th>1</th>\n",
       "      <td>HCM</td>\n",
       "      <td>HCM</td>\n",
       "      <td>HF</td>\n",
       "    </tr>\n",
       "    <tr>\n",
       "      <th>2</th>\n",
       "      <td>DCM</td>\n",
       "      <td>DCM</td>\n",
       "      <td>HF</td>\n",
       "    </tr>\n",
       "  </tbody>\n",
       "</table>\n",
       "</div>"
      ],
      "text/plain": [
       "  disease disease_code heart_failure\n",
       "0      NF           NF            NF\n",
       "1     HCM          HCM            HF\n",
       "2     DCM          DCM            HF"
      ]
     },
     "execution_count": 61,
     "metadata": {},
     "output_type": "execute_result"
    }
   ],
   "source": [
    "disease_df"
   ]
  },
  {
   "cell_type": "code",
   "execution_count": 62,
   "id": "1727a22e-3e4b-47b6-a442-e974188ca979",
   "metadata": {},
   "outputs": [],
   "source": [
    "new_codes = sc_dat.obs.merge(disease_df, on='disease', \n",
    "                           how='left')[[\"barcode\",\"disease_code\",\"heart_failure\"]]"
   ]
  },
  {
   "cell_type": "code",
   "execution_count": 63,
   "id": "acc0ef82-9c10-4b4a-b6e9-262fd94f7059",
   "metadata": {},
   "outputs": [
    {
     "data": {
      "text/html": [
       "<div>\n",
       "<style scoped>\n",
       "    .dataframe tbody tr th:only-of-type {\n",
       "        vertical-align: middle;\n",
       "    }\n",
       "\n",
       "    .dataframe tbody tr th {\n",
       "        vertical-align: top;\n",
       "    }\n",
       "\n",
       "    .dataframe thead th {\n",
       "        text-align: right;\n",
       "    }\n",
       "</style>\n",
       "<table border=\"1\" class=\"dataframe\">\n",
       "  <thead>\n",
       "    <tr style=\"text-align: right;\">\n",
       "      <th></th>\n",
       "      <th>barcode</th>\n",
       "      <th>disease_code</th>\n",
       "      <th>heart_failure</th>\n",
       "    </tr>\n",
       "  </thead>\n",
       "  <tbody>\n",
       "    <tr>\n",
       "      <th>0</th>\n",
       "      <td>TTCTTCCGTTCAACGT-1-0</td>\n",
       "      <td>NF</td>\n",
       "      <td>NF</td>\n",
       "    </tr>\n",
       "    <tr>\n",
       "      <th>1</th>\n",
       "      <td>CATCCACCATCTAACG-1-0</td>\n",
       "      <td>NF</td>\n",
       "      <td>NF</td>\n",
       "    </tr>\n",
       "    <tr>\n",
       "      <th>2</th>\n",
       "      <td>ACCCAAACAGCTAACT-1-0</td>\n",
       "      <td>NF</td>\n",
       "      <td>NF</td>\n",
       "    </tr>\n",
       "    <tr>\n",
       "      <th>3</th>\n",
       "      <td>AAGGAATCAACTGGTT-1-0</td>\n",
       "      <td>NF</td>\n",
       "      <td>NF</td>\n",
       "    </tr>\n",
       "    <tr>\n",
       "      <th>4</th>\n",
       "      <td>TACCCGTAGCGTGCTC-1-0</td>\n",
       "      <td>NF</td>\n",
       "      <td>NF</td>\n",
       "    </tr>\n",
       "    <tr>\n",
       "      <th>...</th>\n",
       "      <td>...</td>\n",
       "      <td>...</td>\n",
       "      <td>...</td>\n",
       "    </tr>\n",
       "    <tr>\n",
       "      <th>592684</th>\n",
       "      <td>TTATTGCGTCGGTGTC-1-79</td>\n",
       "      <td>NF</td>\n",
       "      <td>NF</td>\n",
       "    </tr>\n",
       "    <tr>\n",
       "      <th>592685</th>\n",
       "      <td>GTCACGGGTTGTATGC-1-79</td>\n",
       "      <td>NF</td>\n",
       "      <td>NF</td>\n",
       "    </tr>\n",
       "    <tr>\n",
       "      <th>592686</th>\n",
       "      <td>GTCATGATCTTTCGAT-1-79</td>\n",
       "      <td>NF</td>\n",
       "      <td>NF</td>\n",
       "    </tr>\n",
       "    <tr>\n",
       "      <th>592687</th>\n",
       "      <td>GCGATCGTCAGAGTGG-1-79</td>\n",
       "      <td>NF</td>\n",
       "      <td>NF</td>\n",
       "    </tr>\n",
       "    <tr>\n",
       "      <th>592688</th>\n",
       "      <td>GCCCGAACAGAGAAAG-1-79</td>\n",
       "      <td>NF</td>\n",
       "      <td>NF</td>\n",
       "    </tr>\n",
       "  </tbody>\n",
       "</table>\n",
       "<p>592689 rows × 3 columns</p>\n",
       "</div>"
      ],
      "text/plain": [
       "                      barcode disease_code heart_failure\n",
       "0        TTCTTCCGTTCAACGT-1-0           NF            NF\n",
       "1        CATCCACCATCTAACG-1-0           NF            NF\n",
       "2        ACCCAAACAGCTAACT-1-0           NF            NF\n",
       "3        AAGGAATCAACTGGTT-1-0           NF            NF\n",
       "4        TACCCGTAGCGTGCTC-1-0           NF            NF\n",
       "...                       ...          ...           ...\n",
       "592684  TTATTGCGTCGGTGTC-1-79           NF            NF\n",
       "592685  GTCACGGGTTGTATGC-1-79           NF            NF\n",
       "592686  GTCATGATCTTTCGAT-1-79           NF            NF\n",
       "592687  GCGATCGTCAGAGTGG-1-79           NF            NF\n",
       "592688  GCCCGAACAGAGAAAG-1-79           NF            NF\n",
       "\n",
       "[592689 rows x 3 columns]"
      ]
     },
     "execution_count": 63,
     "metadata": {},
     "output_type": "execute_result"
    }
   ],
   "source": [
    "new_codes"
   ]
  },
  {
   "cell_type": "code",
   "execution_count": 64,
   "id": "d17d78f8-1067-4de9-8f71-c9f9ca57e4f3",
   "metadata": {},
   "outputs": [],
   "source": [
    "new_codes.set_index(\"barcode\", inplace = True)\n",
    "new_codes = new_codes.loc[sc_dat.obs.index.values, :]"
   ]
  },
  {
   "cell_type": "code",
   "execution_count": 65,
   "id": "708e938e-90df-43c3-ac91-55634230828b",
   "metadata": {},
   "outputs": [],
   "source": [
    "sc_dat.obs[\"disease_code\"] = new_codes[\"disease_code\"].values\n",
    "sc_dat.obs[\"heart_failure\"] = new_codes[\"heart_failure\"].values"
   ]
  },
  {
   "cell_type": "code",
   "execution_count": 66,
   "id": "d549d990-7ab1-49ce-9be9-8508f1184d1b",
   "metadata": {},
   "outputs": [
    {
     "data": {
      "text/html": [
       "<div>\n",
       "<style scoped>\n",
       "    .dataframe tbody tr th:only-of-type {\n",
       "        vertical-align: middle;\n",
       "    }\n",
       "\n",
       "    .dataframe tbody tr th {\n",
       "        vertical-align: top;\n",
       "    }\n",
       "\n",
       "    .dataframe thead th {\n",
       "        text-align: right;\n",
       "    }\n",
       "</style>\n",
       "<table border=\"1\" class=\"dataframe\">\n",
       "  <thead>\n",
       "    <tr style=\"text-align: right;\">\n",
       "      <th></th>\n",
       "      <th>disease_code</th>\n",
       "      <th>heart_failure</th>\n",
       "      <th>disease</th>\n",
       "    </tr>\n",
       "  </thead>\n",
       "  <tbody>\n",
       "    <tr>\n",
       "      <th>TTCTTCCGTTCAACGT-1-0</th>\n",
       "      <td>NF</td>\n",
       "      <td>NF</td>\n",
       "      <td>NF</td>\n",
       "    </tr>\n",
       "    <tr>\n",
       "      <th>ACAGCCGCAAGCGAGT-1-1</th>\n",
       "      <td>HCM</td>\n",
       "      <td>HF</td>\n",
       "      <td>HCM</td>\n",
       "    </tr>\n",
       "    <tr>\n",
       "      <th>ATAGACCAGCAGCCCT-1-8</th>\n",
       "      <td>DCM</td>\n",
       "      <td>HF</td>\n",
       "      <td>DCM</td>\n",
       "    </tr>\n",
       "  </tbody>\n",
       "</table>\n",
       "</div>"
      ],
      "text/plain": [
       "                     disease_code heart_failure disease\n",
       "TTCTTCCGTTCAACGT-1-0           NF            NF      NF\n",
       "ACAGCCGCAAGCGAGT-1-1          HCM            HF     HCM\n",
       "ATAGACCAGCAGCCCT-1-8          DCM            HF     DCM"
      ]
     },
     "execution_count": 66,
     "metadata": {},
     "output_type": "execute_result"
    }
   ],
   "source": [
    "sc_dat.obs[[\"disease_code\",\"heart_failure\",\"disease\"]].drop_duplicates()"
   ]
  },
  {
   "cell_type": "code",
   "execution_count": 67,
   "id": "6547ed12-1762-4392-99f6-6fc22810ec2d",
   "metadata": {},
   "outputs": [],
   "source": [
    "# Now to make the dictionary of matched cell types\n",
    "available_cells = sc_dat.obs[[\"cell_type_leiden0.6\"]].drop_duplicates()"
   ]
  },
  {
   "cell_type": "code",
   "execution_count": 68,
   "id": "eb502851-a74c-40a0-bf0d-99655f888f26",
   "metadata": {},
   "outputs": [
    {
     "data": {
      "text/html": [
       "<div>\n",
       "<style scoped>\n",
       "    .dataframe tbody tr th:only-of-type {\n",
       "        vertical-align: middle;\n",
       "    }\n",
       "\n",
       "    .dataframe tbody tr th {\n",
       "        vertical-align: top;\n",
       "    }\n",
       "\n",
       "    .dataframe thead th {\n",
       "        text-align: right;\n",
       "    }\n",
       "</style>\n",
       "<table border=\"1\" class=\"dataframe\">\n",
       "  <thead>\n",
       "    <tr style=\"text-align: right;\">\n",
       "      <th></th>\n",
       "      <th>cell_type_leiden0.6</th>\n",
       "    </tr>\n",
       "  </thead>\n",
       "  <tbody>\n",
       "    <tr>\n",
       "      <th>TTCTTCCGTTCAACGT-1-0</th>\n",
       "      <td>Cardiomyocyte_I</td>\n",
       "    </tr>\n",
       "    <tr>\n",
       "      <th>CAGCAGCCAGTTCTAG-1-0</th>\n",
       "      <td>Adipocyte</td>\n",
       "    </tr>\n",
       "    <tr>\n",
       "      <th>ATTACCTGTTGTTGTG-1-0</th>\n",
       "      <td>Proliferating_macrophage</td>\n",
       "    </tr>\n",
       "    <tr>\n",
       "      <th>AAAGGGCTCTATTCGT-1-0</th>\n",
       "      <td>Cardiomyocyte_III</td>\n",
       "    </tr>\n",
       "    <tr>\n",
       "      <th>GTGACGCCATGAGATA-1-0</th>\n",
       "      <td>Macrophage</td>\n",
       "    </tr>\n",
       "    <tr>\n",
       "      <th>TCAGCAACATAATGAG-1-0</th>\n",
       "      <td>Endocardial</td>\n",
       "    </tr>\n",
       "    <tr>\n",
       "      <th>TACACCCAGTTCCATG-1-0</th>\n",
       "      <td>Fibroblast_I</td>\n",
       "    </tr>\n",
       "    <tr>\n",
       "      <th>AACAAAGTCATATGGC-1-0</th>\n",
       "      <td>Endothelial_III</td>\n",
       "    </tr>\n",
       "    <tr>\n",
       "      <th>TCCGAAATCCGCCTAT-1-0</th>\n",
       "      <td>Neuronal</td>\n",
       "    </tr>\n",
       "    <tr>\n",
       "      <th>CTGTGAACATACCAGT-1-0</th>\n",
       "      <td>Cardiomyocyte_II</td>\n",
       "    </tr>\n",
       "    <tr>\n",
       "      <th>TATTGCTCAGAAGCTG-1-0</th>\n",
       "      <td>Lymphatic_endothelial</td>\n",
       "    </tr>\n",
       "    <tr>\n",
       "      <th>CCATAAGCAAGTATAG-1-0</th>\n",
       "      <td>VSMC</td>\n",
       "    </tr>\n",
       "    <tr>\n",
       "      <th>TGCATCCTCGAAGCCC-1-0</th>\n",
       "      <td>Endothelial_I</td>\n",
       "    </tr>\n",
       "    <tr>\n",
       "      <th>CCCAACTGTGTTAAAG-1-0</th>\n",
       "      <td>Endothelial_II</td>\n",
       "    </tr>\n",
       "    <tr>\n",
       "      <th>ACAACCAAGGCTGGAT-1-0</th>\n",
       "      <td>Pericyte_I</td>\n",
       "    </tr>\n",
       "    <tr>\n",
       "      <th>GACTTCCCAACGCATT-1-0</th>\n",
       "      <td>Activated_fibroblast</td>\n",
       "    </tr>\n",
       "    <tr>\n",
       "      <th>TCCAGAATCAACTCTT-1-0</th>\n",
       "      <td>Pericyte_II</td>\n",
       "    </tr>\n",
       "    <tr>\n",
       "      <th>ATCCACCAGCCTCACG-1-0</th>\n",
       "      <td>Mast_cell</td>\n",
       "    </tr>\n",
       "    <tr>\n",
       "      <th>ACTTCCGCAAGCTCTA-1-0</th>\n",
       "      <td>Lymphocyte</td>\n",
       "    </tr>\n",
       "    <tr>\n",
       "      <th>AACAAAGGTCAACATC-1-1</th>\n",
       "      <td>Epicardial</td>\n",
       "    </tr>\n",
       "    <tr>\n",
       "      <th>ACTCTCGTCCTCGCAT-1-5</th>\n",
       "      <td>Fibroblast_II</td>\n",
       "    </tr>\n",
       "  </tbody>\n",
       "</table>\n",
       "</div>"
      ],
      "text/plain": [
       "                           cell_type_leiden0.6\n",
       "TTCTTCCGTTCAACGT-1-0           Cardiomyocyte_I\n",
       "CAGCAGCCAGTTCTAG-1-0                 Adipocyte\n",
       "ATTACCTGTTGTTGTG-1-0  Proliferating_macrophage\n",
       "AAAGGGCTCTATTCGT-1-0         Cardiomyocyte_III\n",
       "GTGACGCCATGAGATA-1-0                Macrophage\n",
       "TCAGCAACATAATGAG-1-0               Endocardial\n",
       "TACACCCAGTTCCATG-1-0              Fibroblast_I\n",
       "AACAAAGTCATATGGC-1-0           Endothelial_III\n",
       "TCCGAAATCCGCCTAT-1-0                  Neuronal\n",
       "CTGTGAACATACCAGT-1-0          Cardiomyocyte_II\n",
       "TATTGCTCAGAAGCTG-1-0     Lymphatic_endothelial\n",
       "CCATAAGCAAGTATAG-1-0                      VSMC\n",
       "TGCATCCTCGAAGCCC-1-0             Endothelial_I\n",
       "CCCAACTGTGTTAAAG-1-0            Endothelial_II\n",
       "ACAACCAAGGCTGGAT-1-0                Pericyte_I\n",
       "GACTTCCCAACGCATT-1-0      Activated_fibroblast\n",
       "TCCAGAATCAACTCTT-1-0               Pericyte_II\n",
       "ATCCACCAGCCTCACG-1-0                 Mast_cell\n",
       "ACTTCCGCAAGCTCTA-1-0                Lymphocyte\n",
       "AACAAAGGTCAACATC-1-1                Epicardial\n",
       "ACTCTCGTCCTCGCAT-1-5             Fibroblast_II"
      ]
     },
     "execution_count": 68,
     "metadata": {},
     "output_type": "execute_result"
    }
   ],
   "source": [
    "available_cells"
   ]
  },
  {
   "cell_type": "code",
   "execution_count": 69,
   "id": "31f0b445-9028-40c8-8087-e80713a22cb7",
   "metadata": {},
   "outputs": [],
   "source": [
    "available_cells[\"cell_type_uni\"] = \"none\""
   ]
  },
  {
   "cell_type": "code",
   "execution_count": 70,
   "id": "cc2b915a-db1d-4c79-b504-3a0d3a4dd13a",
   "metadata": {},
   "outputs": [],
   "source": [
    "available_cells.loc[available_cells[\"cell_type_leiden0.6\"].str.contains('Cardiomyocyte'), 'cell_type_uni'] = \"CM\"\n",
    "available_cells.loc[available_cells[\"cell_type_leiden0.6\"].str.contains('Macrophage', flags=re.IGNORECASE), 'cell_type_uni'] = \"Myeloid\"\n",
    "available_cells.loc[available_cells[\"cell_type_leiden0.6\"].str.contains('Fibroblast', flags=re.IGNORECASE), 'cell_type_uni'] = \"Fib\"\n",
    "available_cells.loc[available_cells[\"cell_type_leiden0.6\"].str.contains('VSMC'), 'cell_type_uni'] = \"vSMCs\"\n",
    "available_cells.loc[available_cells[\"cell_type_leiden0.6\"].str.contains('Endothelial', flags=re.IGNORECASE), 'cell_type_uni'] = \"Endo\"\n",
    "available_cells.loc[available_cells[\"cell_type_leiden0.6\"].str.contains('Mast', flags=re.IGNORECASE), 'cell_type_uni'] = \"Myeloid\"\n",
    "available_cells.loc[available_cells[\"cell_type_leiden0.6\"].str.contains('Pericyte', flags=re.IGNORECASE), 'cell_type_uni'] = \"PC\"\n",
    "available_cells.loc[available_cells[\"cell_type_leiden0.6\"].str.contains('Lymphocyte', flags=re.IGNORECASE), 'cell_type_uni'] = \"Lymphoid\""
   ]
  },
  {
   "cell_type": "code",
   "execution_count": 71,
   "id": "a6b2960c-beec-4bcc-a1ce-66778a300488",
   "metadata": {},
   "outputs": [],
   "source": [
    "new_cts = sc_dat.obs.merge(available_cells, on='cell_type_leiden0.6', \n",
    "                           how='left')[[\"barcode\",\"cell_type_uni\"]]\n",
    "new_cts.set_index(\"barcode\", inplace = True)\n",
    "new_cts = new_cts.loc[sc_dat.obs.index.values, :]"
   ]
  },
  {
   "cell_type": "code",
   "execution_count": 72,
   "id": "c5daa500-d5c4-4edb-91f3-a9e2f4bc060c",
   "metadata": {},
   "outputs": [],
   "source": [
    "sc_dat.obs[\"cell_type_uni\"] = new_cts[\"cell_type_uni\"].values"
   ]
  },
  {
   "cell_type": "code",
   "execution_count": 73,
   "id": "b051906b-76dd-487f-bf2d-c097d578deda",
   "metadata": {},
   "outputs": [
    {
     "data": {
      "text/html": [
       "<div>\n",
       "<style scoped>\n",
       "    .dataframe tbody tr th:only-of-type {\n",
       "        vertical-align: middle;\n",
       "    }\n",
       "\n",
       "    .dataframe tbody tr th {\n",
       "        vertical-align: top;\n",
       "    }\n",
       "\n",
       "    .dataframe thead th {\n",
       "        text-align: right;\n",
       "    }\n",
       "</style>\n",
       "<table border=\"1\" class=\"dataframe\">\n",
       "  <thead>\n",
       "    <tr style=\"text-align: right;\">\n",
       "      <th></th>\n",
       "      <th>cell_type_leiden0.6</th>\n",
       "      <th>cell_type_uni</th>\n",
       "    </tr>\n",
       "  </thead>\n",
       "  <tbody>\n",
       "    <tr>\n",
       "      <th>TTCTTCCGTTCAACGT-1-0</th>\n",
       "      <td>Cardiomyocyte_I</td>\n",
       "      <td>CM</td>\n",
       "    </tr>\n",
       "    <tr>\n",
       "      <th>CAGCAGCCAGTTCTAG-1-0</th>\n",
       "      <td>Adipocyte</td>\n",
       "      <td>none</td>\n",
       "    </tr>\n",
       "    <tr>\n",
       "      <th>ATTACCTGTTGTTGTG-1-0</th>\n",
       "      <td>Proliferating_macrophage</td>\n",
       "      <td>Myeloid</td>\n",
       "    </tr>\n",
       "    <tr>\n",
       "      <th>AAAGGGCTCTATTCGT-1-0</th>\n",
       "      <td>Cardiomyocyte_III</td>\n",
       "      <td>CM</td>\n",
       "    </tr>\n",
       "    <tr>\n",
       "      <th>GTGACGCCATGAGATA-1-0</th>\n",
       "      <td>Macrophage</td>\n",
       "      <td>Myeloid</td>\n",
       "    </tr>\n",
       "    <tr>\n",
       "      <th>TCAGCAACATAATGAG-1-0</th>\n",
       "      <td>Endocardial</td>\n",
       "      <td>none</td>\n",
       "    </tr>\n",
       "    <tr>\n",
       "      <th>TACACCCAGTTCCATG-1-0</th>\n",
       "      <td>Fibroblast_I</td>\n",
       "      <td>Fib</td>\n",
       "    </tr>\n",
       "    <tr>\n",
       "      <th>AACAAAGTCATATGGC-1-0</th>\n",
       "      <td>Endothelial_III</td>\n",
       "      <td>Endo</td>\n",
       "    </tr>\n",
       "    <tr>\n",
       "      <th>TCCGAAATCCGCCTAT-1-0</th>\n",
       "      <td>Neuronal</td>\n",
       "      <td>none</td>\n",
       "    </tr>\n",
       "    <tr>\n",
       "      <th>CTGTGAACATACCAGT-1-0</th>\n",
       "      <td>Cardiomyocyte_II</td>\n",
       "      <td>CM</td>\n",
       "    </tr>\n",
       "    <tr>\n",
       "      <th>TATTGCTCAGAAGCTG-1-0</th>\n",
       "      <td>Lymphatic_endothelial</td>\n",
       "      <td>Endo</td>\n",
       "    </tr>\n",
       "    <tr>\n",
       "      <th>CCATAAGCAAGTATAG-1-0</th>\n",
       "      <td>VSMC</td>\n",
       "      <td>vSMCs</td>\n",
       "    </tr>\n",
       "    <tr>\n",
       "      <th>TGCATCCTCGAAGCCC-1-0</th>\n",
       "      <td>Endothelial_I</td>\n",
       "      <td>Endo</td>\n",
       "    </tr>\n",
       "    <tr>\n",
       "      <th>CCCAACTGTGTTAAAG-1-0</th>\n",
       "      <td>Endothelial_II</td>\n",
       "      <td>Endo</td>\n",
       "    </tr>\n",
       "    <tr>\n",
       "      <th>ACAACCAAGGCTGGAT-1-0</th>\n",
       "      <td>Pericyte_I</td>\n",
       "      <td>PC</td>\n",
       "    </tr>\n",
       "    <tr>\n",
       "      <th>GACTTCCCAACGCATT-1-0</th>\n",
       "      <td>Activated_fibroblast</td>\n",
       "      <td>Fib</td>\n",
       "    </tr>\n",
       "    <tr>\n",
       "      <th>TCCAGAATCAACTCTT-1-0</th>\n",
       "      <td>Pericyte_II</td>\n",
       "      <td>PC</td>\n",
       "    </tr>\n",
       "    <tr>\n",
       "      <th>ATCCACCAGCCTCACG-1-0</th>\n",
       "      <td>Mast_cell</td>\n",
       "      <td>Myeloid</td>\n",
       "    </tr>\n",
       "    <tr>\n",
       "      <th>ACTTCCGCAAGCTCTA-1-0</th>\n",
       "      <td>Lymphocyte</td>\n",
       "      <td>Lymphoid</td>\n",
       "    </tr>\n",
       "    <tr>\n",
       "      <th>AACAAAGGTCAACATC-1-1</th>\n",
       "      <td>Epicardial</td>\n",
       "      <td>none</td>\n",
       "    </tr>\n",
       "    <tr>\n",
       "      <th>ACTCTCGTCCTCGCAT-1-5</th>\n",
       "      <td>Fibroblast_II</td>\n",
       "      <td>Fib</td>\n",
       "    </tr>\n",
       "  </tbody>\n",
       "</table>\n",
       "</div>"
      ],
      "text/plain": [
       "                           cell_type_leiden0.6 cell_type_uni\n",
       "TTCTTCCGTTCAACGT-1-0           Cardiomyocyte_I            CM\n",
       "CAGCAGCCAGTTCTAG-1-0                 Adipocyte          none\n",
       "ATTACCTGTTGTTGTG-1-0  Proliferating_macrophage       Myeloid\n",
       "AAAGGGCTCTATTCGT-1-0         Cardiomyocyte_III            CM\n",
       "GTGACGCCATGAGATA-1-0                Macrophage       Myeloid\n",
       "TCAGCAACATAATGAG-1-0               Endocardial          none\n",
       "TACACCCAGTTCCATG-1-0              Fibroblast_I           Fib\n",
       "AACAAAGTCATATGGC-1-0           Endothelial_III          Endo\n",
       "TCCGAAATCCGCCTAT-1-0                  Neuronal          none\n",
       "CTGTGAACATACCAGT-1-0          Cardiomyocyte_II            CM\n",
       "TATTGCTCAGAAGCTG-1-0     Lymphatic_endothelial          Endo\n",
       "CCATAAGCAAGTATAG-1-0                      VSMC         vSMCs\n",
       "TGCATCCTCGAAGCCC-1-0             Endothelial_I          Endo\n",
       "CCCAACTGTGTTAAAG-1-0            Endothelial_II          Endo\n",
       "ACAACCAAGGCTGGAT-1-0                Pericyte_I            PC\n",
       "GACTTCCCAACGCATT-1-0      Activated_fibroblast           Fib\n",
       "TCCAGAATCAACTCTT-1-0               Pericyte_II            PC\n",
       "ATCCACCAGCCTCACG-1-0                 Mast_cell       Myeloid\n",
       "ACTTCCGCAAGCTCTA-1-0                Lymphocyte      Lymphoid\n",
       "AACAAAGGTCAACATC-1-1                Epicardial          none\n",
       "ACTCTCGTCCTCGCAT-1-5             Fibroblast_II           Fib"
      ]
     },
     "execution_count": 73,
     "metadata": {},
     "output_type": "execute_result"
    }
   ],
   "source": [
    "sc_dat.obs[[\"cell_type_leiden0.6\",\"cell_type_uni\"]].drop_duplicates()"
   ]
  },
  {
   "cell_type": "code",
   "execution_count": 74,
   "id": "073ed5d4-7b84-4cd1-8caf-c64b2b1d9c83",
   "metadata": {},
   "outputs": [],
   "source": [
    "sc_dat = sc_dat[sc_dat.obs[[\"cell_type_uni\"]].values != \"none\",]"
   ]
  },
  {
   "cell_type": "code",
   "execution_count": 75,
   "id": "934e8399-d412-492c-85e9-b18bac34d023",
   "metadata": {},
   "outputs": [],
   "source": [
    "# Filter obs to contain things that are relevant\n",
    "sc_dat.obs = sc_dat.obs[['donor_id',\n",
    "                         'disease',\n",
    "                         'sex',\n",
    "                         'age',\n",
    "                         'lvef',\n",
    "                         'cell_type_uni',\n",
    "                         'disease_code',\n",
    "                         'heart_failure']]"
   ]
  },
  {
   "cell_type": "code",
   "execution_count": 76,
   "id": "8a626776-49cf-48b1-8c60-6dc57d6b91e7",
   "metadata": {},
   "outputs": [],
   "source": [
    "sc_dat.obs = sc_dat.obs.rename(columns={\"donor_id\": \"sample_id\", \"cell_type_uni\":\"cell_type\"})"
   ]
  },
  {
   "cell_type": "code",
   "execution_count": 77,
   "id": "dbf3aeea-7dd6-4e8b-afbc-8d36201ffaf1",
   "metadata": {},
   "outputs": [],
   "source": [
    "sc_dat.write_h5ad(\"/Volumes/RicoData2/ReHeat2/simplified/Chaffin2022_DCM.h5ad\")"
   ]
  }
 ],
 "metadata": {
  "kernelspec": {
   "display_name": "Python 3 (ipykernel)",
   "language": "python",
   "name": "python3"
  },
  "language_info": {
   "codemirror_mode": {
    "name": "ipython",
    "version": 3
   },
   "file_extension": ".py",
   "mimetype": "text/x-python",
   "name": "python",
   "nbconvert_exporter": "python",
   "pygments_lexer": "ipython3",
   "version": "3.8.16"
  }
 },
 "nbformat": 4,
 "nbformat_minor": 5
}
