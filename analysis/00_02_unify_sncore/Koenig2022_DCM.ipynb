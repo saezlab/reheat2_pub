{
 "cells": [
  {
   "cell_type": "code",
   "execution_count": 1,
   "id": "4c2ed464-5e5e-49f9-9318-0e3181b48e68",
   "metadata": {},
   "outputs": [
    {
     "name": "stderr",
     "output_type": "stream",
     "text": [
      "OMP: Info #276: omp_set_nested routine deprecated, please use omp_set_max_active_levels instead.\n"
     ]
    }
   ],
   "source": [
    "#!/usr/bin/env python\n",
    "# coding: utf-8\n",
    "import sys\n",
    "import scanpy as sc\n",
    "import anndata\n",
    "import pandas as pd\n",
    "import numpy as np\n",
    "import os\n",
    "import gc\n",
    "import decoupler as dc\n",
    "import regex as re\n",
    "os.chdir(\"/Volumes/RicoData2/ReHeat2/raw\")"
   ]
  },
  {
   "cell_type": "code",
   "execution_count": 2,
   "id": "a21c323c-60c2-4131-aa6c-b6f38f8b4f49",
   "metadata": {},
   "outputs": [],
   "source": [
    "sc_dat = sc.read_h5ad(filename = \"Koenig2022_DCM/Koenig2022_DCM.h5ad\")\n",
    "sc_dat.obs[\"barcode\"] = sc_dat.obs.index.values"
   ]
  },
  {
   "cell_type": "code",
   "execution_count": 3,
   "id": "7a1a0c50-0f17-49cb-9282-c563cf9a134b",
   "metadata": {},
   "outputs": [
    {
     "data": {
      "text/plain": [
       "Index(['orig_ident', 'nCount_RNA', 'nFeature_RNA', 'percent_mito',\n",
       "       'nCount_SCT', 'nFeature_SCT', 'SCT_snn_res_0_03', 'SCT_snn_res_0_04',\n",
       "       'SCT_snn_res_0_05', 'SCT_snn_res_0_06', 'SCT_snn_res_0_07',\n",
       "       'SCT_snn_res_0_08', 'SCT_snn_res_0_09', 'SCT_snn_res_0_1',\n",
       "       'SCT_snn_res_0_2', 'SCT_snn_res_0_3', 'SCT_snn_res_0_4',\n",
       "       'SCT_snn_res_0_5', 'SCT_snn_res_0_6', 'SCT_snn_res_0_7',\n",
       "       'SCT_snn_res_0_8', 'SCT_snn_res_0_9', 'SCT_snn_res_1',\n",
       "       'seurat_clusters', 'Names', 'Condition', 'ident', 'barcode'],\n",
       "      dtype='object')"
      ]
     },
     "execution_count": 3,
     "metadata": {},
     "output_type": "execute_result"
    }
   ],
   "source": [
    "sc_dat.obs.columns"
   ]
  },
  {
   "cell_type": "code",
   "execution_count": 4,
   "id": "820b4207-19eb-46ca-a78a-1033cea61444",
   "metadata": {},
   "outputs": [
    {
     "data": {
      "text/plain": [
       "H_ZC-11-292_TAAGTGCAGCAGGTCA    Donor\n",
       "H_ZC-LVAD_CCTTCGATCCTAAGTG        DCM\n",
       "Name: Condition, dtype: category\n",
       "Categories (2, object): ['DCM', 'Donor']"
      ]
     },
     "execution_count": 4,
     "metadata": {},
     "output_type": "execute_result"
    }
   ],
   "source": [
    "sc_dat.obs[\"Condition\"].drop_duplicates()"
   ]
  },
  {
   "cell_type": "code",
   "execution_count": 5,
   "id": "1d18d391-473f-4b52-8da0-0e95f88244cb",
   "metadata": {},
   "outputs": [],
   "source": [
    "disease_df = {'Condition': ['Donor','DCM'],\n",
    "              'disease_code': [\"NF\",\"DCM\"],\n",
    "              'heart_failure': [\"NF\", \"HF\"]}\n",
    "\n",
    "disease_df = pd.DataFrame(disease_df)"
   ]
  },
  {
   "cell_type": "code",
   "execution_count": 6,
   "id": "ec619a34-8a19-4216-b75b-609b2e5bd2a5",
   "metadata": {},
   "outputs": [
    {
     "data": {
      "text/html": [
       "<div>\n",
       "<style scoped>\n",
       "    .dataframe tbody tr th:only-of-type {\n",
       "        vertical-align: middle;\n",
       "    }\n",
       "\n",
       "    .dataframe tbody tr th {\n",
       "        vertical-align: top;\n",
       "    }\n",
       "\n",
       "    .dataframe thead th {\n",
       "        text-align: right;\n",
       "    }\n",
       "</style>\n",
       "<table border=\"1\" class=\"dataframe\">\n",
       "  <thead>\n",
       "    <tr style=\"text-align: right;\">\n",
       "      <th></th>\n",
       "      <th>Condition</th>\n",
       "      <th>disease_code</th>\n",
       "      <th>heart_failure</th>\n",
       "    </tr>\n",
       "  </thead>\n",
       "  <tbody>\n",
       "    <tr>\n",
       "      <th>0</th>\n",
       "      <td>Donor</td>\n",
       "      <td>NF</td>\n",
       "      <td>NF</td>\n",
       "    </tr>\n",
       "    <tr>\n",
       "      <th>1</th>\n",
       "      <td>DCM</td>\n",
       "      <td>DCM</td>\n",
       "      <td>HF</td>\n",
       "    </tr>\n",
       "  </tbody>\n",
       "</table>\n",
       "</div>"
      ],
      "text/plain": [
       "  Condition disease_code heart_failure\n",
       "0     Donor           NF            NF\n",
       "1       DCM          DCM            HF"
      ]
     },
     "execution_count": 6,
     "metadata": {},
     "output_type": "execute_result"
    }
   ],
   "source": [
    "disease_df"
   ]
  },
  {
   "cell_type": "code",
   "execution_count": 7,
   "id": "56d810b0-d269-4269-8e90-6d3f68f3b4e4",
   "metadata": {},
   "outputs": [],
   "source": [
    "new_codes = sc_dat.obs.merge(disease_df, on='Condition', \n",
    "                           how='left')[[\"barcode\",\"Condition\",\"disease_code\",\"heart_failure\"]]\n",
    "new_codes.set_index(\"barcode\", inplace = True)\n",
    "new_codes = new_codes.loc[sc_dat.obs.index.values, :]\n",
    "sc_dat.obs[\"disease_code\"] = new_codes[\"disease_code\"].values\n",
    "sc_dat.obs[\"heart_failure\"] = new_codes[\"heart_failure\"].values"
   ]
  },
  {
   "cell_type": "code",
   "execution_count": 8,
   "id": "b52877db-e570-4c24-92b8-920f5b8b3a35",
   "metadata": {},
   "outputs": [
    {
     "data": {
      "text/html": [
       "<div>\n",
       "<style scoped>\n",
       "    .dataframe tbody tr th:only-of-type {\n",
       "        vertical-align: middle;\n",
       "    }\n",
       "\n",
       "    .dataframe tbody tr th {\n",
       "        vertical-align: top;\n",
       "    }\n",
       "\n",
       "    .dataframe thead th {\n",
       "        text-align: right;\n",
       "    }\n",
       "</style>\n",
       "<table border=\"1\" class=\"dataframe\">\n",
       "  <thead>\n",
       "    <tr style=\"text-align: right;\">\n",
       "      <th></th>\n",
       "      <th>Condition</th>\n",
       "      <th>disease_code</th>\n",
       "      <th>heart_failure</th>\n",
       "    </tr>\n",
       "  </thead>\n",
       "  <tbody>\n",
       "    <tr>\n",
       "      <th>H_ZC-11-292_TAAGTGCAGCAGGTCA</th>\n",
       "      <td>Donor</td>\n",
       "      <td>NF</td>\n",
       "      <td>NF</td>\n",
       "    </tr>\n",
       "    <tr>\n",
       "      <th>H_ZC-LVAD_CCTTCGATCCTAAGTG</th>\n",
       "      <td>DCM</td>\n",
       "      <td>DCM</td>\n",
       "      <td>HF</td>\n",
       "    </tr>\n",
       "  </tbody>\n",
       "</table>\n",
       "</div>"
      ],
      "text/plain": [
       "                             Condition disease_code heart_failure\n",
       "H_ZC-11-292_TAAGTGCAGCAGGTCA     Donor           NF            NF\n",
       "H_ZC-LVAD_CCTTCGATCCTAAGTG         DCM          DCM            HF"
      ]
     },
     "execution_count": 8,
     "metadata": {},
     "output_type": "execute_result"
    }
   ],
   "source": [
    "sc_dat.obs[[\"Condition\",\"disease_code\",\"heart_failure\"]].drop_duplicates()"
   ]
  },
  {
   "cell_type": "code",
   "execution_count": 9,
   "id": "7378d35e-62d9-4bd8-b842-0744e4b01394",
   "metadata": {},
   "outputs": [
    {
     "data": {
      "text/html": [
       "<div>\n",
       "<style scoped>\n",
       "    .dataframe tbody tr th:only-of-type {\n",
       "        vertical-align: middle;\n",
       "    }\n",
       "\n",
       "    .dataframe tbody tr th {\n",
       "        vertical-align: top;\n",
       "    }\n",
       "\n",
       "    .dataframe thead th {\n",
       "        text-align: right;\n",
       "    }\n",
       "</style>\n",
       "<table border=\"1\" class=\"dataframe\">\n",
       "  <thead>\n",
       "    <tr style=\"text-align: right;\">\n",
       "      <th></th>\n",
       "      <th>Names</th>\n",
       "      <th>cell_type_uni</th>\n",
       "    </tr>\n",
       "  </thead>\n",
       "  <tbody>\n",
       "    <tr>\n",
       "      <th>H_ZC-11-292_TAAGTGCAGCAGGTCA</th>\n",
       "      <td>Endocardium</td>\n",
       "      <td>none</td>\n",
       "    </tr>\n",
       "    <tr>\n",
       "      <th>H_ZC-11-292_TACACGACACGGTGTC</th>\n",
       "      <td>Endothelium</td>\n",
       "      <td>none</td>\n",
       "    </tr>\n",
       "    <tr>\n",
       "      <th>TWCM-11-74_TTGGCAACAAACGCGA</th>\n",
       "      <td>Cardiomyocytes</td>\n",
       "      <td>none</td>\n",
       "    </tr>\n",
       "    <tr>\n",
       "      <th>TWCM-13-208_GTAACTGTCGGAAACG</th>\n",
       "      <td>Mast_Cells</td>\n",
       "      <td>none</td>\n",
       "    </tr>\n",
       "    <tr>\n",
       "      <th>H_ZC-11-292_GCTTGAATCTGTTTGT</th>\n",
       "      <td>Macrophages</td>\n",
       "      <td>none</td>\n",
       "    </tr>\n",
       "    <tr>\n",
       "      <th>H_ZC-11-292_GAAACTCAGCCACGCT</th>\n",
       "      <td>Monocytes</td>\n",
       "      <td>none</td>\n",
       "    </tr>\n",
       "    <tr>\n",
       "      <th>H_ZC-11-292_GGGATGACACAGGTTT</th>\n",
       "      <td>B_Cells</td>\n",
       "      <td>none</td>\n",
       "    </tr>\n",
       "    <tr>\n",
       "      <th>TWCM-13-104_ACACCAAGTACCTACA</th>\n",
       "      <td>Fibroblasts</td>\n",
       "      <td>none</td>\n",
       "    </tr>\n",
       "    <tr>\n",
       "      <th>H_ZC-11-292_GGACAGAAGCTGGAAC</th>\n",
       "      <td>Pericytes</td>\n",
       "      <td>none</td>\n",
       "    </tr>\n",
       "    <tr>\n",
       "      <th>H_ZC-LVAD_CCTACCATCTGCCAGG</th>\n",
       "      <td>Smooth_Muscle</td>\n",
       "      <td>none</td>\n",
       "    </tr>\n",
       "    <tr>\n",
       "      <th>TWCM-13-102_GGACATTCAGCGTAAG</th>\n",
       "      <td>Epicardium</td>\n",
       "      <td>none</td>\n",
       "    </tr>\n",
       "    <tr>\n",
       "      <th>H_ZC-11-292_GGATTACTCACAATGC</th>\n",
       "      <td>T/NK_Cells</td>\n",
       "      <td>none</td>\n",
       "    </tr>\n",
       "    <tr>\n",
       "      <th>H_ZC-11-292_ACTGCTCTCATTTGGG</th>\n",
       "      <td>Lymphatic</td>\n",
       "      <td>none</td>\n",
       "    </tr>\n",
       "    <tr>\n",
       "      <th>H_ZC-11-292_ACCCACTAGATGTTAG</th>\n",
       "      <td>Neurons</td>\n",
       "      <td>none</td>\n",
       "    </tr>\n",
       "    <tr>\n",
       "      <th>H_ZC-11-292_AAGCCGCAGACTTGAA</th>\n",
       "      <td>Adipocytes</td>\n",
       "      <td>none</td>\n",
       "    </tr>\n",
       "  </tbody>\n",
       "</table>\n",
       "</div>"
      ],
      "text/plain": [
       "                                       Names cell_type_uni\n",
       "H_ZC-11-292_TAAGTGCAGCAGGTCA     Endocardium          none\n",
       "H_ZC-11-292_TACACGACACGGTGTC     Endothelium          none\n",
       "TWCM-11-74_TTGGCAACAAACGCGA   Cardiomyocytes          none\n",
       "TWCM-13-208_GTAACTGTCGGAAACG      Mast_Cells          none\n",
       "H_ZC-11-292_GCTTGAATCTGTTTGT     Macrophages          none\n",
       "H_ZC-11-292_GAAACTCAGCCACGCT       Monocytes          none\n",
       "H_ZC-11-292_GGGATGACACAGGTTT         B_Cells          none\n",
       "TWCM-13-104_ACACCAAGTACCTACA     Fibroblasts          none\n",
       "H_ZC-11-292_GGACAGAAGCTGGAAC       Pericytes          none\n",
       "H_ZC-LVAD_CCTACCATCTGCCAGG     Smooth_Muscle          none\n",
       "TWCM-13-102_GGACATTCAGCGTAAG      Epicardium          none\n",
       "H_ZC-11-292_GGATTACTCACAATGC      T/NK_Cells          none\n",
       "H_ZC-11-292_ACTGCTCTCATTTGGG       Lymphatic          none\n",
       "H_ZC-11-292_ACCCACTAGATGTTAG         Neurons          none\n",
       "H_ZC-11-292_AAGCCGCAGACTTGAA      Adipocytes          none"
      ]
     },
     "execution_count": 9,
     "metadata": {},
     "output_type": "execute_result"
    }
   ],
   "source": [
    "available_cells = sc_dat.obs[[\"Names\"]].drop_duplicates()\n",
    "available_cells[\"cell_type_uni\"] = \"none\"\n",
    "available_cells"
   ]
  },
  {
   "cell_type": "code",
   "execution_count": 10,
   "id": "506f9832-9780-407b-9923-5df1f18225db",
   "metadata": {},
   "outputs": [],
   "source": [
    "available_cells.loc[available_cells[\"Names\"].str.contains('Endothelium'), 'cell_type_uni'] = \"Endo\"\n",
    "available_cells.loc[available_cells[\"Names\"].str.contains('Cardiomyocytes'), 'cell_type_uni'] = \"CM\"\n",
    "available_cells.loc[available_cells[\"Names\"].str.contains('Mast_Cells'), 'cell_type_uni'] = \"Myeloid\"\n",
    "available_cells.loc[available_cells[\"Names\"].str.contains('Macrophages'), 'cell_type_uni'] = \"Myeloid\"\n",
    "available_cells.loc[available_cells[\"Names\"].str.contains('Monocytes'), 'cell_type_uni'] = \"Myeloid\"\n",
    "available_cells.loc[available_cells[\"Names\"].str.contains('B_Cells'), 'cell_type_uni'] = \"Lymphoid\"\n",
    "available_cells.loc[available_cells[\"Names\"].str.contains('Fibroblast'), 'cell_type_uni'] = \"Fib\"\n",
    "available_cells.loc[available_cells[\"Names\"].str.contains('Pericytes'), 'cell_type_uni'] = \"PC\"\n",
    "available_cells.loc[available_cells[\"Names\"].str.contains('Smooth_Muscle'), 'cell_type_uni'] = \"vSMCs\"\n",
    "available_cells.loc[available_cells[\"Names\"].str.contains('T/NK_Cells'), 'cell_type_uni'] = \"Lymphoid\"\n",
    "available_cells.loc[available_cells[\"Names\"].str.contains('Lymphatic'), 'cell_type_uni'] = \"Lymphoid\""
   ]
  },
  {
   "cell_type": "code",
   "execution_count": 11,
   "id": "56fe0f42-be10-40be-9196-db1054225895",
   "metadata": {},
   "outputs": [],
   "source": [
    "# Generates a new dataframe that keeps the new cell-type annotation\n",
    "new_cts = sc_dat.obs.merge(available_cells, on='Names', \n",
    "                           how='left')[[\"barcode\",\"cell_type_uni\"]]\n",
    "new_cts.set_index(\"barcode\", inplace = True)\n",
    "new_cts = new_cts.loc[sc_dat.obs.index.values, :]\n",
    "sc_dat.obs[\"cell_type_uni\"] = new_cts[\"cell_type_uni\"].values"
   ]
  },
  {
   "cell_type": "code",
   "execution_count": 12,
   "id": "2686a443-7911-4eca-a254-032a072dd067",
   "metadata": {},
   "outputs": [
    {
     "data": {
      "text/html": [
       "<div>\n",
       "<style scoped>\n",
       "    .dataframe tbody tr th:only-of-type {\n",
       "        vertical-align: middle;\n",
       "    }\n",
       "\n",
       "    .dataframe tbody tr th {\n",
       "        vertical-align: top;\n",
       "    }\n",
       "\n",
       "    .dataframe thead th {\n",
       "        text-align: right;\n",
       "    }\n",
       "</style>\n",
       "<table border=\"1\" class=\"dataframe\">\n",
       "  <thead>\n",
       "    <tr style=\"text-align: right;\">\n",
       "      <th></th>\n",
       "      <th>Names</th>\n",
       "      <th>cell_type_uni</th>\n",
       "    </tr>\n",
       "  </thead>\n",
       "  <tbody>\n",
       "    <tr>\n",
       "      <th>H_ZC-11-292_TAAGTGCAGCAGGTCA</th>\n",
       "      <td>Endocardium</td>\n",
       "      <td>none</td>\n",
       "    </tr>\n",
       "    <tr>\n",
       "      <th>H_ZC-11-292_TACACGACACGGTGTC</th>\n",
       "      <td>Endothelium</td>\n",
       "      <td>Endo</td>\n",
       "    </tr>\n",
       "    <tr>\n",
       "      <th>TWCM-11-74_TTGGCAACAAACGCGA</th>\n",
       "      <td>Cardiomyocytes</td>\n",
       "      <td>CM</td>\n",
       "    </tr>\n",
       "    <tr>\n",
       "      <th>TWCM-13-208_GTAACTGTCGGAAACG</th>\n",
       "      <td>Mast_Cells</td>\n",
       "      <td>Myeloid</td>\n",
       "    </tr>\n",
       "    <tr>\n",
       "      <th>H_ZC-11-292_GCTTGAATCTGTTTGT</th>\n",
       "      <td>Macrophages</td>\n",
       "      <td>Myeloid</td>\n",
       "    </tr>\n",
       "    <tr>\n",
       "      <th>H_ZC-11-292_GAAACTCAGCCACGCT</th>\n",
       "      <td>Monocytes</td>\n",
       "      <td>Myeloid</td>\n",
       "    </tr>\n",
       "    <tr>\n",
       "      <th>H_ZC-11-292_GGGATGACACAGGTTT</th>\n",
       "      <td>B_Cells</td>\n",
       "      <td>Lymphoid</td>\n",
       "    </tr>\n",
       "    <tr>\n",
       "      <th>TWCM-13-104_ACACCAAGTACCTACA</th>\n",
       "      <td>Fibroblasts</td>\n",
       "      <td>Fib</td>\n",
       "    </tr>\n",
       "    <tr>\n",
       "      <th>H_ZC-11-292_GGACAGAAGCTGGAAC</th>\n",
       "      <td>Pericytes</td>\n",
       "      <td>PC</td>\n",
       "    </tr>\n",
       "    <tr>\n",
       "      <th>H_ZC-LVAD_CCTACCATCTGCCAGG</th>\n",
       "      <td>Smooth_Muscle</td>\n",
       "      <td>vSMCs</td>\n",
       "    </tr>\n",
       "    <tr>\n",
       "      <th>TWCM-13-102_GGACATTCAGCGTAAG</th>\n",
       "      <td>Epicardium</td>\n",
       "      <td>none</td>\n",
       "    </tr>\n",
       "    <tr>\n",
       "      <th>H_ZC-11-292_GGATTACTCACAATGC</th>\n",
       "      <td>T/NK_Cells</td>\n",
       "      <td>Lymphoid</td>\n",
       "    </tr>\n",
       "    <tr>\n",
       "      <th>H_ZC-11-292_ACTGCTCTCATTTGGG</th>\n",
       "      <td>Lymphatic</td>\n",
       "      <td>Lymphoid</td>\n",
       "    </tr>\n",
       "    <tr>\n",
       "      <th>H_ZC-11-292_ACCCACTAGATGTTAG</th>\n",
       "      <td>Neurons</td>\n",
       "      <td>none</td>\n",
       "    </tr>\n",
       "    <tr>\n",
       "      <th>H_ZC-11-292_AAGCCGCAGACTTGAA</th>\n",
       "      <td>Adipocytes</td>\n",
       "      <td>none</td>\n",
       "    </tr>\n",
       "  </tbody>\n",
       "</table>\n",
       "</div>"
      ],
      "text/plain": [
       "                                       Names cell_type_uni\n",
       "H_ZC-11-292_TAAGTGCAGCAGGTCA     Endocardium          none\n",
       "H_ZC-11-292_TACACGACACGGTGTC     Endothelium          Endo\n",
       "TWCM-11-74_TTGGCAACAAACGCGA   Cardiomyocytes            CM\n",
       "TWCM-13-208_GTAACTGTCGGAAACG      Mast_Cells       Myeloid\n",
       "H_ZC-11-292_GCTTGAATCTGTTTGT     Macrophages       Myeloid\n",
       "H_ZC-11-292_GAAACTCAGCCACGCT       Monocytes       Myeloid\n",
       "H_ZC-11-292_GGGATGACACAGGTTT         B_Cells      Lymphoid\n",
       "TWCM-13-104_ACACCAAGTACCTACA     Fibroblasts           Fib\n",
       "H_ZC-11-292_GGACAGAAGCTGGAAC       Pericytes            PC\n",
       "H_ZC-LVAD_CCTACCATCTGCCAGG     Smooth_Muscle         vSMCs\n",
       "TWCM-13-102_GGACATTCAGCGTAAG      Epicardium          none\n",
       "H_ZC-11-292_GGATTACTCACAATGC      T/NK_Cells      Lymphoid\n",
       "H_ZC-11-292_ACTGCTCTCATTTGGG       Lymphatic      Lymphoid\n",
       "H_ZC-11-292_ACCCACTAGATGTTAG         Neurons          none\n",
       "H_ZC-11-292_AAGCCGCAGACTTGAA      Adipocytes          none"
      ]
     },
     "execution_count": 12,
     "metadata": {},
     "output_type": "execute_result"
    }
   ],
   "source": [
    "sc_dat.obs[[\"Names\", \"cell_type_uni\"]].drop_duplicates()"
   ]
  },
  {
   "cell_type": "code",
   "execution_count": 13,
   "id": "6fd9f110-0d67-451e-8549-d59078540079",
   "metadata": {},
   "outputs": [],
   "source": [
    "sc_dat = sc_dat[sc_dat.obs[[\"cell_type_uni\"]].values != \"none\",]"
   ]
  },
  {
   "cell_type": "code",
   "execution_count": 14,
   "id": "19803cd2-d900-43d1-aa2e-caf98a4b965b",
   "metadata": {},
   "outputs": [],
   "source": [
    "# Filter obs to contain things that are relevant\n",
    "sc_dat.obs = sc_dat.obs[['orig_ident',\n",
    "                         \"cell_type_uni\",\n",
    "                         'Condition',\n",
    "                         'disease_code',\n",
    "                        'heart_failure']]"
   ]
  },
  {
   "cell_type": "code",
   "execution_count": 15,
   "id": "5350e421-59c0-43a7-9a84-0ebdcd576c77",
   "metadata": {},
   "outputs": [],
   "source": [
    "sc_dat.obs = sc_dat.obs.rename(columns={\"orig_ident\": \"sample_id\", \"cell_type_uni\":\"cell_type\"})"
   ]
  },
  {
   "cell_type": "code",
   "execution_count": 16,
   "id": "1407aaba-6fe1-4a4d-9e9c-326e7e5d2243",
   "metadata": {},
   "outputs": [],
   "source": [
    "sc_dat.write_h5ad(\"/Volumes/RicoData2/ReHeat2/simplified/Koenig2022_DCM.h5ad\")"
   ]
  },
  {
   "cell_type": "code",
   "execution_count": null,
   "id": "6ad17bbe-0aad-48fc-8dee-ac4116417149",
   "metadata": {},
   "outputs": [],
   "source": []
  },
  {
   "cell_type": "code",
   "execution_count": null,
   "id": "3cba1641-904a-4312-881e-b37f5bc86c65",
   "metadata": {},
   "outputs": [],
   "source": []
  }
 ],
 "metadata": {
  "kernelspec": {
   "display_name": "Python 3 (ipykernel)",
   "language": "python",
   "name": "python3"
  },
  "language_info": {
   "codemirror_mode": {
    "name": "ipython",
    "version": 3
   },
   "file_extension": ".py",
   "mimetype": "text/x-python",
   "name": "python",
   "nbconvert_exporter": "python",
   "pygments_lexer": "ipython3",
   "version": "3.8.16"
  }
 },
 "nbformat": 4,
 "nbformat_minor": 5
}
