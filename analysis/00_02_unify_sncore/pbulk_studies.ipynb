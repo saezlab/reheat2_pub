{
 "cells": [
  {
   "cell_type": "code",
   "execution_count": 1,
   "id": "9ff89579-dbcf-43b4-8572-01f6a76d4380",
   "metadata": {},
   "outputs": [
    {
     "ename": "ModuleNotFoundError",
     "evalue": "No module named 'decoupler'",
     "output_type": "error",
     "traceback": [
      "\u001b[0;31m---------------------------------------------------------------------------\u001b[0m",
      "\u001b[0;31mModuleNotFoundError\u001b[0m                       Traceback (most recent call last)",
      "Cell \u001b[0;32mIn[1], line 10\u001b[0m\n\u001b[1;32m      8\u001b[0m \u001b[39mimport\u001b[39;00m \u001b[39mos\u001b[39;00m\n\u001b[1;32m      9\u001b[0m \u001b[39mimport\u001b[39;00m \u001b[39mgc\u001b[39;00m\n\u001b[0;32m---> 10\u001b[0m \u001b[39mimport\u001b[39;00m \u001b[39mdecoupler\u001b[39;00m \u001b[39mas\u001b[39;00m \u001b[39mdc\u001b[39;00m\n\u001b[1;32m     11\u001b[0m \u001b[39mimport\u001b[39;00m \u001b[39mregex\u001b[39;00m \u001b[39mas\u001b[39;00m \u001b[39mre\u001b[39;00m\n\u001b[1;32m     12\u001b[0m \u001b[39mimport\u001b[39;00m \u001b[39mdecimal\u001b[39;00m \u001b[39mas\u001b[39;00m \u001b[39mdec\u001b[39;00m\n",
      "\u001b[0;31mModuleNotFoundError\u001b[0m: No module named 'decoupler'"
     ]
    }
   ],
   "source": [
    "#!/usr/bin/env python\n",
    "# coding: utf-8\n",
    "import sys\n",
    "import scanpy as sc\n",
    "import anndata\n",
    "import pandas as pd\n",
    "import numpy as np\n",
    "import os\n",
    "import gc\n",
    "import decoupler as dc\n",
    "import regex as re\n",
    "import decimal as dec\n",
    "from scipy.sparse import csr_matrix\n",
    "from scipy.sparse import csc_matrix\n",
    "os.chdir(\"/Volumes/RicoData2/ReHeat2/\")"
   ]
  },
  {
   "cell_type": "code",
   "execution_count": 2,
   "id": "ba900c41-9ffe-4a0a-a945-4cac1ca13306",
   "metadata": {},
   "outputs": [],
   "source": [
    "all_datasets = [f for f in os.listdir(\"./simplified\")]\n",
    "study_id = [f.replace('.h5ad', \"\") for f in all_datasets]\n",
    "pbulk_files = [\"./pbulk/\" + f + \"_pbulk.csv\" for f in study_id]\n",
    "coldata_files = [\"./coldata/\" + f + \"_coldata.csv\" for f in study_id]\n",
    "metadata_files = [\"./metadata/\" + f + \"_metadata.csv\" for f in study_id]\n",
    "all_datasets = [\"./simplified/\" + f for f in all_datasets]"
   ]
  },
  {
   "cell_type": "code",
   "execution_count": 3,
   "id": "61443b63-549c-4ad3-9971-17e1828dc4bc",
   "metadata": {},
   "outputs": [],
   "source": [
    "banned_md_columns = [\"cell_type\", \"cell_states\", \"Sample\"]"
   ]
  },
  {
   "cell_type": "code",
   "execution_count": 4,
   "id": "167590aa-d54b-470c-8dd1-6d3fd8ad21b4",
   "metadata": {},
   "outputs": [
    {
     "name": "stdout",
     "output_type": "stream",
     "text": [
      "processing Armute2023_LVAD\n",
      "reading ./simplified/Armute2023_LVAD.h5ad\n",
      "n samples\n",
      "(40, 1)\n",
      "shape meta\n",
      "(40, 6)\n",
      "Pseudobulk dimensions\n",
      "(280, 31031)\n",
      "Coldata dimensions\n",
      "(280, 11)\n",
      "processing Reichart2022_DCM\n",
      "reading ./simplified/Reichart2022_DCM.h5ad\n",
      "n samples\n",
      "(79, 1)\n",
      "shape meta\n",
      "(79, 8)\n",
      "Pseudobulk dimensions\n",
      "(550, 30602)\n",
      "Coldata dimensions\n",
      "(550, 13)\n",
      "processing Kuppe2022_MI\n",
      "reading ./simplified/Kuppe2022_MI.h5ad\n",
      "n samples\n",
      "(27, 1)\n",
      "shape meta\n",
      "(27, 7)\n",
      "Pseudobulk dimensions\n",
      "(189, 28990)\n",
      "Coldata dimensions\n",
      "(189, 12)\n",
      "processing Koenig2022_DCM\n",
      "reading ./simplified/Koenig2022_DCM.h5ad\n",
      "n samples\n",
      "(38, 1)\n",
      "shape meta\n",
      "(38, 4)\n",
      "Pseudobulk dimensions\n",
      "(266, 31377)\n",
      "Coldata dimensions\n",
      "(266, 9)\n",
      "processing Chaffin2022_DCM\n",
      "reading ./simplified/Chaffin2022_DCM.h5ad\n",
      "n samples\n",
      "(42, 1)\n",
      "shape meta\n",
      "(42, 7)\n",
      "Pseudobulk dimensions\n",
      "(294, 33364)\n",
      "Coldata dimensions\n",
      "(294, 12)\n",
      "processing Simonson2023_ICM\n",
      "reading ./simplified/Simonson2023_ICM.h5ad\n",
      "n samples\n",
      "(15, 1)\n",
      "shape meta\n",
      "(15, 6)\n",
      "Pseudobulk dimensions\n",
      "(105, 31387)\n",
      "Coldata dimensions\n",
      "(105, 11)\n"
     ]
    }
   ],
   "source": [
    "for s_id,s_f,c_f,m_f,pb_f in zip(study_id, all_datasets, coldata_files, metadata_files, pbulk_files):\n",
    "    print(\"processing \" + s_id)\n",
    "    print(\"reading \" + s_f)\n",
    "    sc_dat = sc.read_h5ad(filename = s_f)\n",
    "\n",
    "    # Creating meta_data\n",
    "    meta_columns = [c for c in sc_dat.obs.columns if c not in banned_md_columns]\n",
    "    meta_data = sc_dat.obs[meta_columns].drop_duplicates()\n",
    "    print(\"n samples\")\n",
    "    print(sc_dat.obs[[\"sample_id\"]].drop_duplicates().shape)\n",
    "    print(\"shape meta\")\n",
    "    print(meta_data.shape)\n",
    "    meta_data.to_csv(m_f)\n",
    "\n",
    "    # Cell-type numbers needed for MOFAcell in coldata\n",
    "    cell_type_numbers = sc_dat.obs.groupby([\"sample_id\", \"cell_type\"])[\"cell_type\"].count()\n",
    "    cell_type_numbers = cell_type_numbers.to_frame().rename({\"cell_type\":\"counts\"}, axis=1).reset_index()\n",
    "\n",
    "    # Pbulk\n",
    "    # To avoid crashes of matrix type\n",
    "    if isinstance(sc_dat.X, csc_matrix):\n",
    "        sc_dat.layers['counts'] = sc_dat.X.tocsr(copy = True)\n",
    "    else:\n",
    "        sc_dat.layers['counts'] = sc_dat.X\n",
    "        \n",
    "    padata = dc.get_pseudobulk(sc_dat, sample_col='sample_id', groups_col='cell_type', layer='counts', min_prop=0, min_smpls=0)\n",
    "    pb_dat = pd.DataFrame(padata.X)\n",
    "    pb_dat.columns = padata.var.index.values\n",
    "    pb_dat.index = padata.obs.index.values\n",
    "    pb_dat.to_csv(pb_f)\n",
    "    print(\"Pseudobulk dimensions\")\n",
    "    print(pb_dat.shape)\n",
    "\n",
    "    #Coldata\n",
    "    pb_coldata = padata.obs.copy()\n",
    "    pb_coldata[\"colname\"] = pb_coldata.index.values\n",
    "    pb_coldata = pb_coldata.merge(cell_type_numbers, on = [\"cell_type\", \"sample_id\"], how = \"left\")\n",
    "    \n",
    "    pb_coldata.to_csv(c_f)\n",
    "    print(\"Coldata dimensions\")\n",
    "    print(pb_coldata.shape)\n",
    "    \n",
    "    "
   ]
  },
  {
   "cell_type": "code",
   "execution_count": null,
   "id": "80ee658f-2711-4273-ae8c-17cd58533b15",
   "metadata": {},
   "outputs": [],
   "source": []
  }
 ],
 "metadata": {
  "kernelspec": {
   "display_name": "sc_base_kernel",
   "language": "python",
   "name": "sc_base_kernel"
  },
  "language_info": {
   "codemirror_mode": {
    "name": "ipython",
    "version": 3
   },
   "file_extension": ".py",
   "mimetype": "text/x-python",
   "name": "python",
   "nbconvert_exporter": "python",
   "pygments_lexer": "ipython3",
   "version": "3.11.4"
  }
 },
 "nbformat": 4,
 "nbformat_minor": 5
}
